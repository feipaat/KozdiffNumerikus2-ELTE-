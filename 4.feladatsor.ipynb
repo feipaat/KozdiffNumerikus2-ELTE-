{
 "cells": [
  {
   "cell_type": "markdown",
   "metadata": {},
   "source": [
    "## <center>4. Feladatsor</center>\n",
    "\n",
    "<img src=\"research.gif\" width=\"870\">\n",
    "\n",
    "<center>\n",
    "<br>\n",
    "<br>\n",
    "\n",
    "\n",
    "<div style=\"width:870 px\">\n",
    "<div style=\"float:center\"><a href=\"http://www.cs.ubc.ca/~ascher/\" target=\"blank\"><img src=\"ascher.jpg\" width=\"187\" title=\"U. M. Ascher (1946-) Matematikus\"/></a></div> \n",
    "<div style=\"clear:both\"></div></div> \n",
    "<br>\n",
    "\n",
    "## <center> Peremérték-feladatok </center>\n",
    "<center>\n"
   ]
  },
  {
   "cell_type": "markdown",
   "metadata": {},
   "source": [
    "### Elméleti alapok és megoldhatóság\n",
    "\n",
    "<b>1.feladat.</b> Vizsgáljuk meg megoldhatóság szempontjából az\n",
    "\n",
    "\\begin{cases}\n",
    " u''(x)= -u(x),\\ \\ \\ x\\in(a,b)&\\\\\n",
    "u(a)=\\alpha,\\ u(b)=\\beta &\n",
    "\\end{cases}\n",
    "\n",
    "peremérték-feladatot.\n",
    "\n",
    "(a) $(a,b)=(0,\\Pi/2),\\ \\alpha=3,\\ \\beta=7$<br>\n",
    "(b) $(a,b)=(0,\\Pi),\\ \\alpha=3,\\ \\beta=7$\n",
    "<br>\n",
    "\n",
    "<b>2.feladat.</b> Írjuk fel a peremérték-feladatokat elsõrendû rendszer alakjában.\n",
    "\n",
    "(a)\n",
    "\\begin{cases}\n",
    "u''(x)= u(x),\\ \\ \\ x\\in(a,b)&\\\\\n",
    "u(a)=\\alpha,\\ u(b)=\\beta&\n",
    "\\end{cases}\n",
    "\n",
    "(b)\n",
    "\\begin{cases}\n",
    "u'''(x)=-2\\lambda^3u(x)+\\lambda^2u'(x)+2\\lambda u''(x),\\ \\ \\ x\\in(0,1)&\\\\\n",
    "u(0)=\\beta_1,\\ u(1)=\\beta_2,\\ u'(1)=\\beta_3&\n",
    "\\end{cases}\n",
    "<br>\n",
    "\n",
    "<b>3.feladat.</b> Rendszerekre vonatkozó ismereteink birtokában vizsgáljuk meg az\n",
    "\n",
    "(a)\n",
    "\\begin{cases}\n",
    "u''(x)= -u(x),\\ \\ \\ x\\in(0,b)&\\\\\n",
    "u(0)=\\alpha,\\ u(b)=\\beta &\n",
    "\\end{cases}\n",
    "\n",
    "(b)\n",
    "\\begin{cases}\n",
    "u''(x)= u(x),\\ \\ \\ x\\in(0,b)&\\\\\n",
    "u(0)=\\alpha,\\ u(b)=\\beta &\n",
    "\\end{cases}\n",
    "\n",
    "feladatok megoldhatóságát."
   ]
  },
  {
   "cell_type": "code",
   "execution_count": null,
   "metadata": {
    "collapsed": true
   },
   "outputs": [],
   "source": []
  }
 ],
 "metadata": {
  "kernelspec": {
   "display_name": "Octave",
   "language": "octave",
   "name": "octave"
  },
  "language_info": {
   "file_extension": ".m",
   "help_links": [
    {
     "text": "GNU Octave",
     "url": "https://www.gnu.org/software/octave/support.html"
    },
    {
     "text": "Octave Kernel",
     "url": "https://github.com/Calysto/octave_kernel"
    },
    {
     "text": "MetaKernel Magics",
     "url": "https://metakernel.readthedocs.io/en/latest/source/README.html"
    }
   ],
   "mimetype": "text/x-octave",
   "name": "octave",
   "version": "5.1.0"
  }
 },
 "nbformat": 4,
 "nbformat_minor": 1
}
