{
 "cells": [
  {
   "cell_type": "markdown",
   "metadata": {},
   "source": [
    "# <center>Numerikus modellezés és közönséges differenciálegyenletek numerikus megoldási módszerei II.</center>"
   ]
  },
  {
   "cell_type": "markdown",
   "metadata": {},
   "source": [
    "## <center>Fekete Imre</center>"
   ]
  },
  {
   "cell_type": "markdown",
   "metadata": {},
   "source": [
    "### <center>Alkalmazott Analízis és Számításmatematikai Tanszék</center>"
   ]
  },
  {
   "cell_type": "markdown",
   "metadata": {},
   "source": [
    "<img src=\"cimer2.jpg\" width=\"400\">\n",
    "<br>\n",
    "<br>\n",
    "<br>\n",
    "<br>\n",
    "\n",
    "### Általános információk:\n",
    "+ <span class=\"fa fa-building-o\"></span> Déli Tömb 3.702\n",
    "+ Honlap: <a href=\"http://imrefekete.web.elte.hu/\" target=\"_blank\"> http://imrefekete.web.elte.hu/</a>\n",
    "+ Fogadóórák: H 11-12 és Sz 13-14 \n",
    "+ Kurzushoz kapcsolódó minden anyag megtalálható a kurzus <a href=\"https://github.com/feipaat/KozdiffNumerikus2-ELTE-\"> Github </a> mappájában\n",
    "\n",
    "### Számonkérés:\n",
    "\n",
    "+ Hetente beadandó elméleti és/vagy programozási feladatok\n",
    "+ 1 fős prezentáció egy személyre szabott anyagból \n",
    "+ Szorgalmival lehet bónuszpontokat szerezni\n",
    "<br>\n",
    "\n",
    "### Irodalom:\n",
    "#### ELTE-s\n",
    "+ <a href=\"http://www.cs.elte.hu/~faragois/jegyzet_Szeged.pdf\"> Faragó István: Numerikus modellezés és közönséges differenciálegyenletek numerikus megoldási módszerei </a>\n",
    "+ <a href=\"http://tankonyvtar.ttk.bme.hu/authorlistp.jsp?bookId=30\">Faragó István, Horváth Róbert: Numerikus módszerek </a>\n",
    "+ <a href=\"http://tankonyvtar.ttk.bme.hu/authorlistp.jsp?bookId=117\"> Faragó István, Fekete Imre, Horváth Róbert: Numerikus módszerek példatár </a>\n",
    "\n",
    "#### Ajánlott és további irodalom\n",
    "Az előző félév ajánlott irodalma kiegészítve az egyik legfontosabb alapkönyvvel\n",
    "+ <a href=\"https://bookstore.siam.org/CL13\"> Ascher, Mattheij, Russell: Numerical Solution of BVPs for ODEs </a>\n",
    "\n"
   ]
  },
  {
   "cell_type": "markdown",
   "metadata": {},
   "source": [
    "### Az előző félév tapasztalataiból kiindulva:\n",
    "\n",
    "<br>\n",
    "<br>\n",
    "\n",
    "\n",
    "<div style=\"width:870 px\"></div>\n",
    "<div style=\"float:left\"><img src=\"students.jpg\" width=\"350\" title=\"Nyugodtan kérdezzünk!\"/></div>\n",
    "<div style=\"float:left\"><img src=\"practice.jpg\" width=\"400\" title=\"A gyakorlás maradjon meg jó szokásunk!\"/></div>\n",
    "<div style=\"clear:both\"></div> \n",
    "<br>\n",
    "<br>"
   ]
  },
  {
   "cell_type": "markdown",
   "metadata": {},
   "source": [
    "### Miről lesz szó a félév során?\n",
    "\n",
    "<br>\n",
    "<br>\n",
    "\n",
    "\n",
    "<div style=\"width:870 px\">\n",
    "<div style=\"float:left\"><img src=\"onevsmulti.jpg\" width=\"400\" title=\"Egylépéses vs. többlépéses módszerek\"/></div>\n",
    "<div style=\"float:left\"><img src=\"bdfstability.png\" width=\"370\" title=\"BDF1-6 stabilitási tartományok\"/></div>\n",
    "<div style=\"float:left\"><img src=\"shootingmethod.jpg\" width=\"400\" title=\"Belöléves módszer\"/></div> \n",
    "<div style=\"float:left\"><img src=\"laplace.png\" width=\"420\" title=\"Peremérték feladatok\"/></div>\n",
    "<div style=\"clear:both\"></div>\n",
    "</div>   \n"
   ]
  },
  {
   "cell_type": "markdown",
   "metadata": {},
   "source": [
    "<br>\n",
    "<br>\n",
    "\n",
    "## <center>Lineáris többlépéses módszerek\n",
    "<center> <i>\"You know, I am a multistep man ... and don't tell anybody, but the first program I wrote for the first Swedish computer was a Runge-Kuta code...\"</i><br>\n",
    "(G. Dahlquist, 1982)</center>\n",
    "<br>\n",
    "<div style=\"width:870 px\">\n",
    "<div style=\"float:center\"><a href=\"https://en.wikipedia.org/wiki/Germund_Dahlquist\" target=\"blank\"><img src=\"dahlquist.jpg\" width=\"127\" title=\"Germund Dahlquist (1925-2005) Matematikus\"/></a></div> \n",
    "<div style=\"clear:both\"></div></div> \n",
    "\n",
    "\n",
    "<br>\n",
    "<br>\n",
    "\n",
    "\n",
    "### Konzisztencia\n",
    "\n",
    "<b>1.feladat.</b> Taylor-sorfejtés útján határozzuk meg az $y_n-\\frac{4}{3}y_{n-1}+\\frac{1}{3}y_{n-2}=\\frac{2}{3}hf_n$ kétlépéses módszer konzisztencia rendjét!\n",
    "\n",
    "<b>2.feladat.</b>  Határozzuk meg az $y_n+a_1y_{n-1}+a_2y_{n-2}=h(b_1f_{n-1}+b_2f_{n-2})$ explicit kétlépéses módszer együtthatóit úgy, hogy a konzisztencia rendje minél magasabb legyen!\n",
    "<br>\n"
   ]
  },
  {
   "cell_type": "code",
   "execution_count": null,
   "metadata": {},
   "outputs": [],
   "source": []
  },
  {
   "cell_type": "markdown",
   "metadata": {},
   "source": [
    "<b>3.feladat.</b>  [Házi feladat] Írjunk programot, mely meghatározza a lineáris többlépéses módszer konzisztencia rendjét!"
   ]
  },
  {
   "cell_type": "code",
   "execution_count": null,
   "metadata": {},
   "outputs": [],
   "source": []
  },
  {
   "cell_type": "markdown",
   "metadata": {},
   "source": [
    "### 0-stabilitás, erős és gyenge stabilitás\n",
    "<br>\n",
    "\n",
    "<b>4.feladat.</b>  Oldjuk meg az $y_n-4y_{n-1}+3y_{n-2}=-2hf_{n-2}$ módszerrel az\n",
    "\n",
    "\\begin{cases}\n",
    "u'(t)= -u(t),\\ \\ \\ t\\in[0,1]&\\\\\n",
    "u(0)=1 &\n",
    "\\end{cases}\n",
    "\n",
    "egyenletet $h=1/10$ választással! A módszer elindításához szükséges értékeket a feladat pontos megoldásából adjuk meg. Nézzük meg minden egyes lépés után, hogy a hiba hogyan változik. Konvergens-e a módszer?"
   ]
  },
  {
   "cell_type": "code",
   "execution_count": null,
   "metadata": {},
   "outputs": [],
   "source": []
  },
  {
   "cell_type": "markdown",
   "metadata": {},
   "source": [
    "<b>5.feladat.</b>  [Házi feladat] Írjunk programot, mely meghatározza a lineáris többlépéses módszerről, hogy gyengén vagy erősen stabil-e!\n",
    "\n",
    "Teszteljük a programunkat az alábbi lineáris többlépéses módszerekre. Erősen stabilak ezek a módszerek?\n",
    "\n",
    "(a) $y_n+4y_{n-1}-5y_{n-2}=h(4f_{n-1}+2f_{n-2})$<br>\n",
    "(b) $y_n-y_{n-2}=\\frac{h}{2}(f_n+4f_{n-1}+f_{n-2})$<br>\n",
    "(c) $y_n-\\frac{4}{3}y_{n-1}+\\frac{1}{3}y_{n-2}=\\frac{2}{3}hf_n$"
   ]
  },
  {
   "cell_type": "code",
   "execution_count": 2,
   "metadata": {},
   "outputs": [],
   "source": [
    "format long\n",
    "a=[1 4 -5];\n",
    "b=[1 0 1/2];\n",
    "c=[1 -4/3 1/3];\n",
    "d=[1 -1/2 1 1/2]; %Erdekes eset #1\n",
    "e=[1 -1 1 -1]; % Erdekes eset #2\n",
    "strongweakstability(e) ;"
   ]
  },
  {
   "cell_type": "markdown",
   "metadata": {},
   "source": [
    "<b>6.feladat.</b>  Mutassuk meg, hogy az Adams módszerek erősen stabilak!\n",
    "<br>"
   ]
  },
  {
   "cell_type": "markdown",
   "metadata": {},
   "source": [
    "<br>\n",
    "\n",
    "### Abszolút stabilitási tartományok (Első, második Dahlquist korlát)\n",
    "<br>\n",
    "<center>\n",
    "<i>\"I didn’t like all these “strong”, “perfect”, “absolute”,\n",
    "“generalized”, “super”, “hyper”, “complete” and so on\n",
    "in mathematical definitions, I wanted something neutral;\n",
    "and having been impressed by David Young’s “property\n",
    "A”, I chose the term “A-stable”.\"</i><br>\n",
    "(G. Dahlquist, 1979)\n",
    "</center>\n",
    "<br>\n",
    "<br>\n",
    "<u>Tétel (First Dahlquist Barrier)</u>. Egy $p$-edrendű $k$-lépéses 0-stabil LTM-re\n",
    "\n",
    "+ $p\\leq k+2$, ha $k$ páros (implicit)<br>\n",
    "+ $p\\leq k+1$, ha $k$ páratlan (implicit)<br>\n",
    "+ $p\\leq k$, ha $\\beta_k / \\alpha_k\\leq 0$ (explicit)<br>\n",
    "<br>\n",
    "<br>\n",
    "<center>\n",
    "<i>\"I searched for a long time, finally Professor Lax showed me the\n",
    "Riesz-Herglotz theorem and I knew that I had my theorem.\"</i><br>\n",
    "(G. Dahlquist 1979)\n",
    "</center>\n",
    "<br>\n",
    "<br>\n",
    "\n",
    "<u>Tétel (Second Dahlquist Barrier)</u>. Ha egy LTM A-stabil, akkor $\\text{Re}\\big(\\frac{\\rho(\\xi)}{\\sigma(\\xi)}\\big)>0$ minden $|\\xi|>1$ esetén. Irreducibilis módszerek esetén a fenti képletből következik az A-stabilitás.\n",
    "<br>\n",
    "\n",
    "<u>Tétel (Second Dahlquist Barrier)</u>. Egy A-stabil LTM-re $p\\leq 2$. Ha $p=2$, akkor a hibatagjára a $C\\leq -1/12$ becslés igaz. A trapéz módszer az egyetlen A-stabil másdorendű módszer $C=-1/12$ hibataggal.\n",
    "<br>"
   ]
  },
  {
   "cell_type": "markdown",
   "metadata": {},
   "source": [
    "<br>\n",
    "<b>7.feladat.</b>  Határozzuk meg az alábbi Adams és BDF típusú módszerek $\\pi(\\xi)$ karakterisztikus polinomjait és ábrázoljuk az abszolút stabilitási tartományait!\n",
    "\n",
    "<br>\n",
    "(a) AB2 $y_{n+1}=y_n+h(\\frac{3}{2}f_{n}-\\frac{1}{2}f_{n-1})$ <br>\n",
    "(b) AB4 $y_{n+1}=y_{n}+h(\\frac{55}{24}f_{n}-\\frac{59}{24}f_{n-1}+\\frac{37}{24}f_{n-2}-\\frac{9}{24}f_{n-3})$ <br>\n",
    "(c) AM3 $y_{n+1}=y_{n}+h(\\frac{5}{12}f_{n+1}+\\frac{8}{12}f_{n}-\\frac{1}{12}f_{n-1})$ <br>\n",
    "(d) AM5 $y_{n+1}=y_{n}+h(\\frac{251}{720}f_{n+1}+\\frac{646}{720}f_{n}-\\frac{264}{720}f_{n-1}+\\frac{106}{720}f_{n-2}-\\frac{19}{720}f_{n-3})$ <br>\n",
    "(e) BDF2 $y_{n+1}=\\frac{4}{3}y_{n}-\\frac{1}{3}y_{n-1}+\\frac{2}{3}hf_{n+1}$ <br>\n",
    "(f) BDF3 $y_{n+1}=\\frac{18}{11}y_{n}-\\frac{9}{11}y_{n-1}+\\frac{2}{11}y_{n-2}+\\frac{6}{11}hf_{n+1}$ <br>"
   ]
  },
  {
   "cell_type": "code",
   "execution_count": 4,
   "metadata": {},
   "outputs": [
    {
     "data": {
      "image/png": "[encoded data removed]",
      "text/plain": [
       "<IPython.core.display.Image object>"
      ]
     },
     "metadata": {},
     "output_type": "display_data"
    }
   ],
   "source": [
    "LW = 'LineWidth'; lw = 1;\n",
    "clr = [221 221 221]/255;\n",
    "% Az egysegkor definialasa\n",
    "N = 1000;\n",
    "theta = linspace(0,2*pi,N);\n",
    "xi = exp(1i*theta);\n",
    "\n",
    "% Az egyes karakterisztikus polinomok (\\pi(xi)=0 egyenletre vonatkozoan)\n",
    "%f = @(xi)(2*xi.^2-2*xi)./(3*xi-1); % AB2\n",
    "%f=@(xi)(12*(xi.^3-xi.^2))./(23*xi.^2-16*xi+5); %AB3\n",
    "f=@(xi) 24*(xi.^4-xi.^3)./(55*xi.^3 - 59*xi.^2 + 37*xi - 9); %AB4 %%fill(real(z(real(z)<=0)),imag(z(real(z)<=0)),clr)\n",
    "%f=@(xi)(12*(xi.^2-xi))./(5*xi.^2+8*xi-1); %AM3\n",
    "%f=@(xi)(12*(xi.^2-xi))./(5*xi.^2+8*xi-1); %AM5\n",
    "%f=@(xi)(3*xi.^2-4*xi+1)./(2*xi.^2); %BDF2\n",
    "%f=@(xi)(11*xi.^3-18*xi.^2+9*xi-2)./(6*xi.^3); %BDF3\n",
    "\n",
    "\n",
    "z = f(xi);\n",
    "plot(z,'k-',LW,lw), hold on\n",
    "%fill(real(z),imag(z),clr)\n",
    "plot([min(real(z)) max(real(z))],[0 0],'b--',LW,lw)\n",
    "plot([0 0],[min(imag(z)) max(imag(z))],'b--',LW,lw)\n",
    "axis tight, axis equal, hold off"
   ]
  },
  {
   "cell_type": "code",
   "execution_count": null,
   "metadata": {
    "scrolled": true
   },
   "outputs": [],
   "source": []
  }
 ],
 "metadata": {
  "kernelspec": {
   "display_name": "Octave",
   "language": "octave",
   "name": "octave"
  },
  "language_info": {
   "file_extension": ".m",
   "help_links": [
    {
     "text": "GNU Octave",
     "url": "https://www.gnu.org/software/octave/support.html"
    },
    {
     "text": "Octave Kernel",
     "url": "https://github.com/Calysto/octave_kernel"
    },
    {
     "text": "MetaKernel Magics",
     "url": "https://metakernel.readthedocs.io/en/latest/source/README.html"
    }
   ],
   "mimetype": "text/x-octave",
   "name": "octave",
   "version": "5.1.0"
  }
 },
 "nbformat": 4,
 "nbformat_minor": 1
}
