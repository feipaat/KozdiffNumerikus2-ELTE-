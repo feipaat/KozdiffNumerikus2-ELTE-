{
 "cells": [
  {
   "cell_type": "markdown",
   "metadata": {},
   "source": [
    "## <center>3. Feladatsor</center>\n",
    "\n",
    "<img src=\"gobacktowork.gif\" width=\"870\">\n",
    "\n",
    "<br>\n",
    "<br>\n",
    "<br>\n",
    "\n",
    "<center>\n",
    ",,Ny name is Gear.''---,,pardon?\"<br>\n",
    ",,Gear, dshii, ii, ay, are.\"---,,Mr. Jiea?\"<br>\n",
    "(In a hotel of Paris)\n",
    "</center>\n",
    "<br>\n",
    "<br>\n",
    "\n",
    "\n",
    "<div style=\"width:870 px\">\n",
    "<div style=\"float:center\"><a href=\"https://en.wikipedia.org/wiki/C._William_Gear\" target=\"blank\"><img src=\"gear.jpeg\" width=\"187\" title=\"C. William Gear (1935-) Matematikus\"/></a></div> \n",
    "<div style=\"clear:both\"></div></div> "
   ]
  },
  {
   "cell_type": "markdown",
   "metadata": {},
   "source": [
    "<br>\n",
    "<br>\n",
    "\n",
    "## <center> Backward differentiation formulas (BDF módszerek)  </center>\n",
    "\n",
    "### BDF módszerek reprezentálása\n",
    "\n",
    "$$y_{i+1}=\\sum_{j=1}^ka_jy_{i+1-j}+hb_0f_{i+1}$$\n",
    "Jelölések:\n",
    "+ $k$ lépések száma\n",
    "+ $p=k$ módszer rendje\n",
    "+ lokális csonkolási hibában $C_{p+1}=\\frac{1}{k+1}$\n",
    "\n",
    "<table style=\"text-align: center\" cellpadding=\"3px\" cellspacing=\"0px\">\n",
    "<tr>\n",
    "<td style=\"border-bottom:1px solid; border-top: 1px solid;\">$k$</td>\n",
    "<td style=\"border-bottom:1px solid; border-top: 1px solid;\">$b_0$</td>\n",
    "<td style=\"border-bottom:1px solid; border-top: 1px solid;\">$a_1$</td>\n",
    "<td style=\"border-bottom:1px solid; border-top: 1px solid;\">$a_2$</td>\n",
    "<td style=\"border-bottom:1px solid; border-top: 1px solid;\">$a_3$</td>\n",
    "<td style=\"border-bottom:1px solid; border-top: 1px solid;\">$a_4$</td>\n",
    "<td style=\"border-bottom:1px solid; border-top: 1px solid;\">$a_5$</td>\n",
    "<td style=\"border-bottom:1px solid; border-top: 1px solid;\">$a_6$</td>\n",
    "</tr>\n",
    "<tr>\n",
    "<td>$$1$$</td>\n",
    "<td>$$1$$</td>\n",
    "<td>$$1$$</td>\n",
    "<td></td>\n",
    "<td></td>\n",
    "<td></td>\n",
    "<td></td>\n",
    "<td></td>\n",
    "</tr>\n",
    "<tr>\n",
    "<td>$$2$$</td>\n",
    "<td>$$\\frac{2}{3}$$</td>\n",
    "<td>$$-\\frac{1}{3}$$</td>\n",
    "<td></td>\n",
    "<td></td>\n",
    "<td></td>\n",
    "<td></td>\n",
    "<td></td>\n",
    "</tr>\n",
    "<tr>\n",
    "<td>$$3$$</td>\n",
    "<td>$$\\frac{6}{11}$$</td>\n",
    "<td>$$\\frac{18}{11}$$</td>\n",
    "<td>$$-\\frac{9}{11}$$</td>\n",
    "<td>$$\\frac{2}{11}$$</td><td></td>\n",
    "<td></td>\n",
    "</tr>\n",
    "<tr>\n",
    "<td>$$4$$</td>\n",
    "<td>$$\\frac{12}{25}$$</td>\n",
    "<td>$$\\frac{48}{25}$$</td>\n",
    "<td>$$-\\frac{36}{25}$$</td>\n",
    "<td>$$\\frac{16}{25}$$</td>\n",
    "<td>$$-\\frac{3}{25}$$</td>\n",
    "<td></td>\n",
    "<td></td>\n",
    "</tr>\n",
    "<tr>\n",
    "<td>$$5$$</td>\n",
    "<td>$$\\frac{60}{137}$$</td>\n",
    "<td>$$\\frac{300}{137}$$</td>\n",
    "<td>$$-\\frac{300}{137}$$</td>\n",
    "<td>$$\\frac{200}{137}$$</td>\n",
    "<td>$$-\\frac{75}{137}$$</td>\n",
    "<td>$$\\frac{12}{137}$$</td>\n",
    "<td></td>\n",
    "</tr>\n",
    "<tr>\n",
    "<td style=\"border-bottom:1px solid;\">$$6$$</td>\n",
    "<td style=\"border-bottom:1px solid;\">$$\\frac{60}{147}$$</td>\n",
    "<td style=\"border-bottom:1px solid;\">$$\\frac{360}{147}$$</td>\n",
    "<td style=\"border-bottom:1px solid;\">$$-\\frac{450}{147}$$</td>\n",
    "<td style=\"border-bottom:1px solid;\">$$\\frac{400}{147}$$</td>\n",
    "<td style=\"border-bottom:1px solid;\">$$-\\frac{225}{147}$$</td>\n",
    "<td style=\"border-bottom:1px solid;\">$$\\frac{72}{147}$$</td>\n",
    "<td style=\"border-bottom:1px solid;\">$$-\\frac{10}{147}$$</td>\n",
    "</table>\n",
    "<br>\n",
    "<br>\n"
   ]
  },
  {
   "cell_type": "markdown",
   "metadata": {},
   "source": [
    "1.feladat. Számoljuk ki $k=1,2,3$ esetekben a $$\\sum_{j=1}^k\\frac{1}{j}\\nabla^jy_{n+1}=hf_{n+1}$$\n",
    "felíráson alapuló BDF módszereket!\n",
    "\n",
    "<br>\n",
    "\n",
    "2.feladat. Írjunk programot az előző feladatra általános $k$ esetre!"
   ]
  },
  {
   "cell_type": "code",
   "execution_count": 1,
   "metadata": {},
   "outputs": [
    {
     "name": "stdout",
     "output_type": "stream",
     "text": [
      "ans =         3/2         -2        1/2\r\n"
     ]
    }
   ],
   "source": [
    "BDFcoefficients(2)"
   ]
  },
  {
   "cell_type": "markdown",
   "metadata": {},
   "source": [
    "### A-, $A(\\alpha)$- és L-stabilitás\n",
    "\n",
    "3.feladat. Írjunk programot, mely kiszámolja a BDF3 módszer $A(\\alpha)$ stabilitási tartományának szögét!"
   ]
  },
  {
   "cell_type": "code",
   "execution_count": 1,
   "metadata": {},
   "outputs": [
    {
     "data": {
      "image/png": "[encoded data removed]",
      "text/plain": [
       "<IPython.core.display.Image object>"
      ]
     },
     "metadata": {},
     "output_type": "display_data"
    }
   ],
   "source": [
    "LW = 'LineWidth'; lw = 1;\n",
    "clr = [221 221 221]/255;\n",
    "% Az egysegkor definialasa\n",
    "N = 1000;\n",
    "theta = linspace(0,2*pi,N);\n",
    "xi = exp(1i*theta);\n",
    "\n",
    "% Az egyes karakterisztikus polinomok (\\pi(xi)=0 egyenletre vonatkozoan)\n",
    "BDF1=@(xi)(1-1./xi);\n",
    "BDF2=@(xi)(3*xi.^2-4*xi+1)./(2*xi.^2);\n",
    "BDF3=@(xi)(11*xi.^3-18*xi.^2+9*xi-2)./(6*xi.^3);\n",
    "BDF4=@(xi)(25*xi.^4-48*xi.^3+36*xi.^2-16*xi+3)./(12*xi.^4);\n",
    "BDF5=@(xi)(137*xi.^5-300*xi.^4+300*xi.^3-200*xi.^2+75*xi+-12)./(60*xi.^5);\n",
    "BDF6=@(xi)(147*xi.^6-360*xi.^5+450*xi.^4-400*xi.^3+225*xi.^2-72*xi+10)./(60*xi.^6);\n",
    "z1=BDF1(xi);\n",
    "z2=BDF2(xi);\n",
    "z3=BDF3(xi);\n",
    "z4=BDF4(xi);\n",
    "z5=BDF5(xi);\n",
    "z6=BDF6(xi);\n",
    "plot(z1,'k-',LW,lw), hold on\n",
    "plot(z2,'k-',LW,lw), \n",
    "plot(z3,'k-',LW,lw), \n",
    "plot(z4,'k-',LW,lw), \n",
    "plot(z5,'k-',LW,lw), \n",
    "plot(z6,'k-',LW,lw), \n",
    "%fill(real(z),imag(z),clr)\n",
    "%plot([min(real(z)) max(real(z))],[0 0],'b--',LW,lw)\n",
    "%plot([0 0],[min(imag(z)) max(imag(z))],'b--',LW,lw)\n",
    "axis tight, axis equal, hold off\n",
    "title('A BDF1-6 modszerek abszolut stabilitasi tartomanyai')\n",
    "\n"
   ]
  },
  {
   "cell_type": "markdown",
   "metadata": {},
   "source": [
    "4.feladat. Tekintsük az alábbi rendszert\n",
    "<br>\n",
    "<br>\n",
    "\n",
    "<center>\n",
    "\n",
    "$u'(t)=\\left[ \\begin{array}{cc}\n",
    "-2 & 1 \\\\ 998 & -999\n",
    "\\end{array} \\right]u(t)+\\left[ \\begin{array}{c}\n",
    "2\\sin(t) \\\\  999[\\cos(t)-\\sin(t)]\n",
    "\\end{array} \\right]$, \n",
    "$u(0)$=$\\left( \\begin{array}{c}\n",
    "0 \\\\\n",
    "0\n",
    "\\end{array} \\right)$\n",
    "</center>\n",
    "\n",
    "A feladat pontos megoldása\n",
    "\n",
    "<center>\n",
    "\n",
    "$u(t)=-\\frac{1}{999}\\exp(-t)\\left( \\begin{array}{c}\n",
    "1 \\\\\n",
    "1\n",
    "\\end{array} \\right)+\\frac{1}{999}\\exp(-1000t)\\left( \\begin{array}{c}\n",
    "1 \\\\\n",
    "-998\n",
    "\\end{array} \\right)+\\left( \\begin{array}{c}\n",
    "\\sin(t) \\\\\n",
    "\\cos(t)\n",
    "\\end{array} \\right)$\n",
    "</center>\n",
    "\n",
    "Alkalmazzuk a rendszer megoldására az IE és Trapéz módszereket és pontos megoldással együtt ábrázolva magyarázzuk meg az $L$-stabilitás jelenségét!"
   ]
  },
  {
   "cell_type": "code",
   "execution_count": 38,
   "metadata": {},
   "outputs": [
    {
     "data": {
      "image/png": "[encoded data removed]",
      "text/plain": [
       "<IPython.core.display.Image object>"
      ]
     },
     "metadata": {},
     "output_type": "display_data"
    }
   ],
   "source": []
  },
  {
   "cell_type": "markdown",
   "metadata": {},
   "source": [
    "### BDF módszerek implementálása\n",
    "\n",
    "5.feladat. Tekintsük az alábbi kezdetiérték-problémát:\n",
    "\n",
    "\\begin{cases}\n",
    "x'(t)= x(t)+t&\\\\\n",
    "x(0)=2, &\n",
    "\\end{cases}\n",
    "\n",
    "ahol $t\\in [0,1]$. Számoljuk ki a feladat közelítő megoldását BDF2 módszer segítségével és mérjük a konvergencia rendet maximum normában finom rács technikával."
   ]
  },
  {
   "cell_type": "code",
   "execution_count": null,
   "metadata": {},
   "outputs": [],
   "source": []
  },
  {
   "cell_type": "markdown",
   "metadata": {},
   "source": [
    "6.feladat. [Two-Mass and Spring system] Tekintsük az előző feladatsorról megismert kéttömegű lengőendszer vertikális kitérését leíró rendszert:\n",
    "\\begin{align}\n",
    "u_1^{'}&=u_2\\\\\n",
    "u_2^{'}&=-\\frac{s_1}{m_1}u_1+\\frac{s_2}{m_1}(u_3-u_1)\\\\\n",
    "u_3^{'}&=u_4\\\\\n",
    "u_4^{'}&=-\\frac{s_2}{m_2}(u_3-u_1)\n",
    "\\end{align}\n",
    "ahol $m_1=10$kg és $m_2=2$kg adott tömegek, $s_1=100$ és $s_2=120$ adott rugóhoz tartozó állandók. A feladathoz tartozó kezdeti érték vektora\n",
    "$$u_1(0)=0.5,\\quad u_2(0)=0,\\quad u_3(0)=0.25,\\quad u_4(0)=0.$$\n",
    "\n",
    "A kitérést a tömeg egyensúlyi helyzetétől mérve pozitív irányítással lefelé értjük. A kilengést és a hosszt magában foglaló ábárzoláshoz szükséges paraméterek értékei $r_1=10$ és $r_2=15$.\n",
    "\n",
    "A feladat megoldására a BDF4 módszert alkalmazzuk. Vizsgáljuk meg, hogy mekkora a kitérés mértéke az egyes tömegekre nézve az első 5 másodpercben ha $N=100$. Miben tér el ez a módszer az Adams-Moulton és Milne-Simpson prediktor-korrektor típusú módszerektől? Finomrács technika segítségével mérjük meg a módszer becsült rendjét kettes normában! \n"
   ]
  },
  {
   "cell_type": "code",
   "execution_count": 15,
   "metadata": {},
   "outputs": [
    {
     "name": "stdout",
     "output_type": "stream",
     "text": [
      "nn =  4\n",
      "mm =  101\n",
      "ans =\n",
      "\n",
      "     1   101\n",
      "\n"
     ]
    },
    {
     "data": {
      "image/png": "[encoded data removed]",
      "text/plain": [
       "<IPython.core.display.Image object>"
      ]
     },
     "metadata": {},
     "output_type": "display_data"
    }
   ],
   "source": []
  },
  {
   "cell_type": "code",
   "execution_count": 16,
   "metadata": {},
   "outputs": [
    {
     "name": "stdout",
     "output_type": "stream",
     "text": [
      "ans =\n",
      "\n",
      "       4   65537\n",
      "\n",
      "ratekomp1 =\n",
      "\n",
      "   3.9916   3.9736   3.9864\n",
      "\n",
      "ratekomp2 =\n",
      "\n",
      "   3.9672   3.9649   3.9835\n",
      "\n",
      "ratekomp3 =\n",
      "\n",
      "   3.9926   3.9744   3.9868\n",
      "\n",
      "ratekomp4 =\n",
      "\n",
      "   3.9668   3.9648   3.9834\n",
      "\n",
      "a =\n",
      "\n",
      "   3.9864   3.9835   3.9868   3.9834\n",
      "\n",
      "ans =  3.9834\n"
     ]
    }
   ],
   "source": []
  },
  {
   "cell_type": "markdown",
   "metadata": {},
   "source": [
    "<br>\n",
    "<br>\n",
    "\n",
    "### Explicit Gear módszerekről\n",
    "\n",
    "$$y_{i+1}=\\sum_{j=1}^ka_jy_{i-j}+hb_1f_{i}$$\n",
    "\n",
    "<table style=\"text-align: center\" cellpadding=\"3px\" cellspacing=\"0px\">\n",
    "<tr>\n",
    "<td style=\"border-bottom:1px solid; border-top: 1px solid;\">$k$</td>\n",
    "<td style=\"border-bottom:1px solid; border-top: 1px solid;\">$b_1$</td>\n",
    "<td style=\"border-bottom:1px solid; border-top: 1px solid;\">$a_1$</td>\n",
    "<td style=\"border-bottom:1px solid; border-top: 1px solid;\">$a_2$</td>\n",
    "<td style=\"border-bottom:1px solid; border-top: 1px solid;\">$a_3$</td>\n",
    "<td style=\"border-bottom:1px solid; border-top: 1px solid;\">$a_4$</td>\n",
    "<td style=\"border-bottom:1px solid; border-top: 1px solid;\">$a_5$</td>\n",
    "<td style=\"border-bottom:1px solid; border-top: 1px solid;\">$a_6$</td>\n",
    "</tr>\n",
    "<tr>\n",
    "<td>$$1$$</td>\n",
    "<td>$$1$$</td>\n",
    "<td>$$1$$</td>\n",
    "<td></td>\n",
    "<td></td>\n",
    "<td></td>\n",
    "<td></td>\n",
    "<td></td>\n",
    "</tr>\n",
    "<tr>\n",
    "<td>$$2$$</td>\n",
    "<td>$$2$$</td>\n",
    "<td>$$0$$</td>\n",
    "<td>$$1$$</td>\n",
    "<td></td>\n",
    "<td></td>\n",
    "<td></td>\n",
    "<td></td>\n",
    "</tr>\n",
    "<tr>\n",
    "<td>$$3$$</td>\n",
    "<td>$$3$$</td>\n",
    "<td>$$-\\frac{3}{2}$$</td>\n",
    "<td>$$\\frac{6}{2}$$</td>\n",
    "<td>$$-\\frac{1}{2}$$</td><td></td>\n",
    "<td></td>\n",
    "</tr>\n",
    "<tr>\n",
    "<td>$$4$$</td>\n",
    "<td>$$4$$</td>\n",
    "<td>$$-\\frac{10}{3}$$</td>\n",
    "<td>$$\\frac{18}{3}$$</td>\n",
    "<td>$$-\\frac{6}{3}$$</td>\n",
    "<td>$$\\frac{1}{3}$$</td>\n",
    "<td></td>\n",
    "<td></td>\n",
    "</tr>\n",
    "<tr>\n",
    "<td>$$5$$</td>\n",
    "<td>$$5$$</td>\n",
    "<td>$$-\\frac{65}{12}$$</td>\n",
    "<td>$$\\frac{120}{12}$$</td>\n",
    "<td>$$-\\frac{60}{12}$$</td>\n",
    "<td>$$\\frac{20}{12}$$</td>\n",
    "<td>$$-\\frac{3}{12}$$</td>\n",
    "<td></td>\n",
    "</tr>\n",
    "<tr>\n",
    "<td style=\"border-bottom:1px solid;\">$$6$$</td>\n",
    "<td style=\"border-bottom:1px solid;\">$$6$$</td>\n",
    "<td style=\"border-bottom:1px solid;\">$$-\\frac{77}{10}$$</td>\n",
    "<td style=\"border-bottom:1px solid;\">$$\\frac{150}{10}$$</td>\n",
    "<td style=\"border-bottom:1px solid;\">$$-\\frac{100}{10}$$</td>\n",
    "<td style=\"border-bottom:1px solid;\">$$\\frac{50}{10}$$</td>\n",
    "<td style=\"border-bottom:1px solid;\">$$-\\frac{15}{10}$$</td>\n",
    "<td style=\"border-bottom:1px solid;\">$$\\frac{2}{10}$$</td>\n",
    "</table>\n",
    "<br>\n",
    "<br>\n",
    "Az implementálás a már tanult AB módszerekhez hasonló. A gyakorlatban ritkán használják explicit merev megoldóként a kis abszolút stabilitási tartománya miatt."
   ]
  },
  {
   "cell_type": "code",
   "execution_count": null,
   "metadata": {
    "collapsed": true
   },
   "outputs": [],
   "source": []
  }
 ],
 "metadata": {
  "kernelspec": {
   "display_name": "Octave",
   "language": "octave",
   "name": "octave"
  },
  "language_info": {
   "file_extension": ".m",
   "help_links": [
    {
     "text": "GNU Octave",
     "url": "https://www.gnu.org/software/octave/support.html"
    },
    {
     "text": "Octave Kernel",
     "url": "https://github.com/Calysto/octave_kernel"
    },
    {
     "text": "MetaKernel Magics",
     "url": "https://metakernel.readthedocs.io/en/latest/source/README.html"
    }
   ],
   "mimetype": "text/x-octave",
   "name": "octave",
   "version": "5.1.0"
  }
 },
 "nbformat": 4,
 "nbformat_minor": 1
}
