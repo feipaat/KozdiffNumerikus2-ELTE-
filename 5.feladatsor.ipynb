{
 "cells": [
  {
   "cell_type": "markdown",
   "metadata": {},
   "source": [
    "## <center>5. Feladatsor</center>\n",
    "\n",
    "<img src=\"magic.gif\" width=\"870\">\n",
    "\n",
    "<center>"
   ]
  },
  {
   "cell_type": "markdown",
   "metadata": {},
   "source": [
    "## <center>Kétpontos peremérték problémák 1D-ben </center>"
   ]
  },
  {
   "cell_type": "markdown",
   "metadata": {},
   "source": [
    "<br>\n",
    "\n",
    "### Direkt diszkretizációs technikák\n",
    "#### Dirichlet-perem\n",
    "\n",
    "\n",
    "<b>1.feladat.</b> Tekintsük az alábbi kétpontos peremérték problémát\n",
    "\n",
    "\\begin{cases}\n",
    "-u''(x)=1,\\quad x\\in(0,\\pi/4)\\\\\n",
    "u(0)=1\\\\\n",
    "u(\\pi/4)=2\n",
    "\\end{cases}\n",
    "\n",
    "(a) Alkalmazzuk a fenti feladatban szereplő második deriváltra a standard másodrendű véges differenciát! Készítsünk ábrát az általunk kapott numerikus megoldásról és a feladat pontos megoldásáról is!\n",
    "\n",
    "<br>\n"
   ]
  },
  {
   "cell_type": "code",
   "execution_count": 16,
   "metadata": {},
   "outputs": [
    {
     "data": {
      "image/svg+xml": [
       "<svg height=\"420px\" viewBox=\"0 0 560 420\" width=\"560px\" xmlns=\"http://www.w3.org/2000/svg\" xmlns:xlink=\"http://www.w3.org/1999/xlink\">\n",
       "\n",
       "<title>Gnuplot</title>\n",
       "<desc>Produced by GNUPLOT 5.2 patchlevel 8 </desc>\n",
       "\n",
       "<g id=\"gnuplot_canvas\">\n",
       "\n",
       "<rect fill=\"#ffffff\" height=\"420\" width=\"560\" x=\"0\" y=\"0\"/>\n",
       "<defs>\n",
       "\n",
       "\t<circle id=\"gpDot\" r=\"0.5\" stroke=\"currentColor\" stroke-width=\"0.5\"/>\n",
       "\t<path d=\"M-1,0 h2 M0,-1 v2\" id=\"gpPt0\" stroke=\"currentColor\" stroke-width=\"0.357\"/>\n",
       "\t<path d=\"M-1,-1 L1,1 M1,-1 L-1,1\" id=\"gpPt1\" stroke=\"currentColor\" stroke-width=\"0.357\"/>\n",
       "\t<path d=\"M-1,0 L1,0 M0,-1 L0,1 M-1,-1 L1,1 M-1,1 L1,-1\" id=\"gpPt2\" stroke=\"currentColor\" stroke-width=\"0.357\"/>\n",
       "\t<rect height=\"2\" id=\"gpPt3\" stroke=\"currentColor\" stroke-width=\"0.357\" width=\"2\" x=\"-1\" y=\"-1\"/>\n",
       "\t<rect fill=\"currentColor\" height=\"2\" id=\"gpPt4\" stroke=\"currentColor\" stroke-width=\"0.357\" width=\"2\" x=\"-1\" y=\"-1\"/>\n",
       "\t<circle cx=\"0\" cy=\"0\" id=\"gpPt5\" r=\"1\" stroke=\"currentColor\" stroke-width=\"0.357\"/>\n",
       "\t<use fill=\"currentColor\" id=\"gpPt6\" stroke=\"none\" xlink:href=\"#gpPt5\"/>\n",
       "\t<path d=\"M0,-1.33 L-1.33,0.67 L1.33,0.67 z\" id=\"gpPt7\" stroke=\"currentColor\" stroke-width=\"0.357\"/>\n",
       "\t<use fill=\"currentColor\" id=\"gpPt8\" stroke=\"none\" xlink:href=\"#gpPt7\"/>\n",
       "\t<use id=\"gpPt9\" stroke=\"currentColor\" transform=\"rotate(180)\" xlink:href=\"#gpPt7\"/>\n",
       "\t<use fill=\"currentColor\" id=\"gpPt10\" stroke=\"none\" xlink:href=\"#gpPt9\"/>\n",
       "\t<use id=\"gpPt11\" stroke=\"currentColor\" transform=\"rotate(45)\" xlink:href=\"#gpPt3\"/>\n",
       "\t<use fill=\"currentColor\" id=\"gpPt12\" stroke=\"none\" xlink:href=\"#gpPt11\"/>\n",
       "\t<path d=\"M0,1.330 L1.265,0.411 L0.782,-1.067 L-0.782,-1.076 L-1.265,0.411 z\" id=\"gpPt13\" stroke=\"currentColor\" stroke-width=\"0.357\"/>\n",
       "\t<use fill=\"currentColor\" id=\"gpPt14\" stroke=\"none\" xlink:href=\"#gpPt13\"/>\n",
       "\t<filter filterUnits=\"objectBoundingBox\" height=\"1\" id=\"textbox\" width=\"1\" x=\"0\" y=\"0\">\n",
       "\t  <feFlood flood-color=\"#FFFFFF\" flood-opacity=\"1\" result=\"bgnd\"/>\n",
       "\t  <feComposite in=\"SourceGraphic\" in2=\"bgnd\" operator=\"atop\"/>\n",
       "\t</filter>\n",
       "\t<filter filterUnits=\"objectBoundingBox\" height=\"1\" id=\"greybox\" width=\"1\" x=\"0\" y=\"0\">\n",
       "\t  <feFlood flood-color=\"lightgrey\" flood-opacity=\"1\" result=\"grey\"/>\n",
       "\t  <feComposite in=\"SourceGraphic\" in2=\"grey\" operator=\"atop\"/>\n",
       "\t</filter>\n",
       "</defs>\n",
       "<g color=\"#FFFFFF\" fill=\"none\" stroke=\"currentColor\" stroke-linecap=\"butt\" stroke-linejoin=\"miter\" stroke-width=\"1.00\">\n",
       "</g>\n",
       "<g color=\"black\" fill=\"none\" stroke=\"currentColor\" stroke-linecap=\"butt\" stroke-linejoin=\"miter\" stroke-width=\"1.00\">\n",
       "\t<g shape-rendering=\"crispEdges\" stroke=\"none\">\n",
       "\t\t<polygon fill=\"rgb(255, 255, 255)\" points=\"28.6,397.6 544.2,397.6 544.2,11.4 28.6,11.4 \"/>\n",
       "\t</g>\n",
       "</g>\n",
       "<g color=\"black\" fill=\"none\" stroke=\"currentColor\" stroke-linecap=\"butt\" stroke-linejoin=\"miter\" stroke-width=\"1.00\">\n",
       "\t<path d=\"M28.6,397.6 L36.4,397.6 M544.3,397.6 L536.5,397.6  \" stroke=\"rgb(  0,   0,   0)\"/>\t<g fill=\"rgb(38,38,38)\" font-family=\"Arial\" font-size=\"10.00\" stroke=\"none\" text-anchor=\"end\" transform=\"translate(23.4,400.9)\">\n",
       "\t\t<text><tspan font-family=\"Arial\">1</tspan></text>\n",
       "\t</g>\n",
       "</g>\n",
       "<g color=\"black\" fill=\"none\" stroke=\"currentColor\" stroke-linecap=\"butt\" stroke-linejoin=\"miter\" stroke-width=\"1.00\">\n",
       "\t<path d=\"M28.6,320.3 L36.4,320.3 M544.3,320.3 L536.5,320.3  \" stroke=\"rgb(  0,   0,   0)\"/>\t<g fill=\"rgb(38,38,38)\" font-family=\"Arial\" font-size=\"10.00\" stroke=\"none\" text-anchor=\"end\" transform=\"translate(23.4,323.6)\">\n",
       "\t\t<text><tspan font-family=\"Arial\">1.2</tspan></text>\n",
       "\t</g>\n",
       "</g>\n",
       "<g color=\"black\" fill=\"none\" stroke=\"currentColor\" stroke-linecap=\"butt\" stroke-linejoin=\"miter\" stroke-width=\"1.00\">\n",
       "\t<path d=\"M28.6,243.1 L36.4,243.1 M544.3,243.1 L536.5,243.1  \" stroke=\"rgb(  0,   0,   0)\"/>\t<g fill=\"rgb(38,38,38)\" font-family=\"Arial\" font-size=\"10.00\" stroke=\"none\" text-anchor=\"end\" transform=\"translate(23.4,246.4)\">\n",
       "\t\t<text><tspan font-family=\"Arial\">1.4</tspan></text>\n",
       "\t</g>\n",
       "</g>\n",
       "<g color=\"black\" fill=\"none\" stroke=\"currentColor\" stroke-linecap=\"butt\" stroke-linejoin=\"miter\" stroke-width=\"1.00\">\n",
       "\t<path d=\"M28.6,165.8 L36.4,165.8 M544.3,165.8 L536.5,165.8  \" stroke=\"rgb(  0,   0,   0)\"/>\t<g fill=\"rgb(38,38,38)\" font-family=\"Arial\" font-size=\"10.00\" stroke=\"none\" text-anchor=\"end\" transform=\"translate(23.4,169.1)\">\n",
       "\t\t<text><tspan font-family=\"Arial\">1.6</tspan></text>\n",
       "\t</g>\n",
       "</g>\n",
       "<g color=\"black\" fill=\"none\" stroke=\"currentColor\" stroke-linecap=\"butt\" stroke-linejoin=\"miter\" stroke-width=\"1.00\">\n",
       "\t<path d=\"M28.6,88.6 L36.4,88.6 M544.3,88.6 L536.5,88.6  \" stroke=\"rgb(  0,   0,   0)\"/>\t<g fill=\"rgb(38,38,38)\" font-family=\"Arial\" font-size=\"10.00\" stroke=\"none\" text-anchor=\"end\" transform=\"translate(23.4,91.9)\">\n",
       "\t\t<text><tspan font-family=\"Arial\">1.8</tspan></text>\n",
       "\t</g>\n",
       "</g>\n",
       "<g color=\"black\" fill=\"none\" stroke=\"currentColor\" stroke-linecap=\"butt\" stroke-linejoin=\"miter\" stroke-width=\"1.00\">\n",
       "\t<path d=\"M28.6,11.3 L36.4,11.3 M544.3,11.3 L536.5,11.3  \" stroke=\"rgb(  0,   0,   0)\"/>\t<g fill=\"rgb(38,38,38)\" font-family=\"Arial\" font-size=\"10.00\" stroke=\"none\" text-anchor=\"end\" transform=\"translate(23.4,14.6)\">\n",
       "\t\t<text><tspan font-family=\"Arial\">2</tspan></text>\n",
       "\t</g>\n",
       "</g>\n",
       "<g color=\"black\" fill=\"none\" stroke=\"currentColor\" stroke-linecap=\"butt\" stroke-linejoin=\"miter\" stroke-width=\"1.00\">\n",
       "\t<path d=\"M28.6,397.6 L28.6,389.8 M28.6,11.3 L28.6,19.1  \" stroke=\"rgb(  0,   0,   0)\"/>\t<g fill=\"rgb(38,38,38)\" font-family=\"Arial\" font-size=\"10.00\" stroke=\"none\" text-anchor=\"middle\" transform=\"translate(28.6,412.1)\">\n",
       "\t\t<text><tspan font-family=\"Arial\">0</tspan></text>\n",
       "\t</g>\n",
       "</g>\n",
       "<g color=\"black\" fill=\"none\" stroke=\"currentColor\" stroke-linecap=\"butt\" stroke-linejoin=\"miter\" stroke-width=\"1.00\">\n",
       "\t<path d=\"M157.5,397.6 L157.5,389.8 M157.5,11.3 L157.5,19.1  \" stroke=\"rgb(  0,   0,   0)\"/>\t<g fill=\"rgb(38,38,38)\" font-family=\"Arial\" font-size=\"10.00\" stroke=\"none\" text-anchor=\"middle\" transform=\"translate(157.5,412.1)\">\n",
       "\t\t<text><tspan font-family=\"Arial\">0.2</tspan></text>\n",
       "\t</g>\n",
       "</g>\n",
       "<g color=\"black\" fill=\"none\" stroke=\"currentColor\" stroke-linecap=\"butt\" stroke-linejoin=\"miter\" stroke-width=\"1.00\">\n",
       "\t<path d=\"M286.5,397.6 L286.5,389.8 M286.5,11.3 L286.5,19.1  \" stroke=\"rgb(  0,   0,   0)\"/>\t<g fill=\"rgb(38,38,38)\" font-family=\"Arial\" font-size=\"10.00\" stroke=\"none\" text-anchor=\"middle\" transform=\"translate(286.5,412.1)\">\n",
       "\t\t<text><tspan font-family=\"Arial\">0.4</tspan></text>\n",
       "\t</g>\n",
       "</g>\n",
       "<g color=\"black\" fill=\"none\" stroke=\"currentColor\" stroke-linecap=\"butt\" stroke-linejoin=\"miter\" stroke-width=\"1.00\">\n",
       "\t<path d=\"M415.4,397.6 L415.4,389.8 M415.4,11.3 L415.4,19.1  \" stroke=\"rgb(  0,   0,   0)\"/>\t<g fill=\"rgb(38,38,38)\" font-family=\"Arial\" font-size=\"10.00\" stroke=\"none\" text-anchor=\"middle\" transform=\"translate(415.4,412.1)\">\n",
       "\t\t<text><tspan font-family=\"Arial\">0.6</tspan></text>\n",
       "\t</g>\n",
       "</g>\n",
       "<g color=\"black\" fill=\"none\" stroke=\"currentColor\" stroke-linecap=\"butt\" stroke-linejoin=\"miter\" stroke-width=\"1.00\">\n",
       "\t<path d=\"M544.3,397.6 L544.3,389.8 M544.3,11.3 L544.3,19.1  \" stroke=\"rgb(  0,   0,   0)\"/>\t<g fill=\"rgb(38,38,38)\" font-family=\"Arial\" font-size=\"10.00\" stroke=\"none\" text-anchor=\"middle\" transform=\"translate(544.3,412.1)\">\n",
       "\t\t<text><tspan font-family=\"Arial\">0.8</tspan></text>\n",
       "\t</g>\n",
       "</g>\n",
       "<g color=\"black\" fill=\"none\" stroke=\"currentColor\" stroke-linecap=\"butt\" stroke-linejoin=\"miter\" stroke-width=\"1.00\">\n",
       "</g>\n",
       "<g color=\"black\" fill=\"none\" stroke=\"currentColor\" stroke-linecap=\"butt\" stroke-linejoin=\"miter\" stroke-width=\"1.00\">\n",
       "</g>\n",
       "<g color=\"black\" fill=\"none\" stroke=\"currentColor\" stroke-linecap=\"butt\" stroke-linejoin=\"miter\" stroke-width=\"1.00\">\n",
       "\t<path d=\"M439.0,47.1 L439.0,16.9 L539.1,16.9 L539.1,47.1 L439.0,47.1 Z  \" stroke=\"black\"/></g>\n",
       "\t<g id=\"gnuplot_plot_1a\"><title>Numerikus</title>\n",
       "<g color=\"#FFFFFF\" fill=\"none\" stroke=\"black\" stroke-linecap=\"butt\" stroke-linejoin=\"miter\" stroke-width=\"0.50\">\n",
       "</g>\n",
       "<g color=\"black\" fill=\"none\" stroke=\"currentColor\" stroke-linecap=\"butt\" stroke-linejoin=\"miter\" stroke-width=\"0.50\">\n",
       "\t<g fill=\"rgb(0,0,0)\" font-family=\"Arial\" font-size=\"9.00\" stroke=\"none\" text-anchor=\"start\" transform=\"translate(482.4,27.5)\">\n",
       "\t\t<text><tspan font-family=\"Arial\">Numerikus</tspan></text>\n",
       "\t</g>\n",
       "</g>\n",
       "<g color=\"black\" fill=\"none\" stroke=\"currentColor\" stroke-linecap=\"butt\" stroke-linejoin=\"miter\" stroke-width=\"0.50\">\n",
       "\t<use color=\"rgb(255,   0, 255)\" transform=\"translate(28.6,397.6) scale(5.60)\" xlink:href=\"#gpPt0\"/>\n",
       "\t<use color=\"rgb(255,   0, 255)\" transform=\"translate(58.4,368.3) scale(5.60)\" xlink:href=\"#gpPt0\"/>\n",
       "\t<use color=\"rgb(255,   0, 255)\" transform=\"translate(88.2,339.8) scale(5.60)\" xlink:href=\"#gpPt0\"/>\n",
       "\t<use color=\"rgb(255,   0, 255)\" transform=\"translate(117.9,312.1) scale(5.60)\" xlink:href=\"#gpPt0\"/>\n",
       "\t<use color=\"rgb(255,   0, 255)\" transform=\"translate(147.7,285.3) scale(5.60)\" xlink:href=\"#gpPt0\"/>\n",
       "\t<use color=\"rgb(255,   0, 255)\" transform=\"translate(177.5,259.2) scale(5.60)\" xlink:href=\"#gpPt0\"/>\n",
       "\t<use color=\"rgb(255,   0, 255)\" transform=\"translate(207.3,234.0) scale(5.60)\" xlink:href=\"#gpPt0\"/>\n",
       "\t<use color=\"rgb(255,   0, 255)\" transform=\"translate(237.1,209.7) scale(5.60)\" xlink:href=\"#gpPt0\"/>\n",
       "\t<use color=\"rgb(255,   0, 255)\" transform=\"translate(266.9,186.1) scale(5.60)\" xlink:href=\"#gpPt0\"/>\n",
       "\t<use color=\"rgb(255,   0, 255)\" transform=\"translate(296.6,163.4) scale(5.60)\" xlink:href=\"#gpPt0\"/>\n",
       "\t<use color=\"rgb(255,   0, 255)\" transform=\"translate(326.4,141.5) scale(5.60)\" xlink:href=\"#gpPt0\"/>\n",
       "\t<use color=\"rgb(255,   0, 255)\" transform=\"translate(356.2,120.4) scale(5.60)\" xlink:href=\"#gpPt0\"/>\n",
       "\t<use color=\"rgb(255,   0, 255)\" transform=\"translate(386.0,100.2) scale(5.60)\" xlink:href=\"#gpPt0\"/>\n",
       "\t<use color=\"rgb(255,   0, 255)\" transform=\"translate(415.8,80.8) scale(5.60)\" xlink:href=\"#gpPt0\"/>\n",
       "\t<use color=\"rgb(255,   0, 255)\" transform=\"translate(445.5,62.2) scale(5.60)\" xlink:href=\"#gpPt0\"/>\n",
       "\t<use color=\"rgb(255,   0, 255)\" transform=\"translate(475.3,44.4) scale(5.60)\" xlink:href=\"#gpPt0\"/>\n",
       "\t<use color=\"rgb(255,   0, 255)\" transform=\"translate(505.1,27.4) scale(5.60)\" xlink:href=\"#gpPt0\"/>\n",
       "\t<use color=\"rgb(255,   0, 255)\" transform=\"translate(534.9,11.3) scale(5.60)\" xlink:href=\"#gpPt0\"/>\n",
       "\t<use color=\"rgb(255,   0, 255)\" transform=\"translate(460.7,24.5) scale(5.60)\" xlink:href=\"#gpPt0\"/>\n",
       "</g>\n",
       "\t</g>\n",
       "\t<g id=\"gnuplot_plot_2a\"><title>Pontos</title>\n",
       "<g color=\"black\" fill=\"none\" stroke=\"currentColor\" stroke-linecap=\"butt\" stroke-linejoin=\"miter\" stroke-width=\"0.50\">\n",
       "\t<g fill=\"rgb(0,0,0)\" font-family=\"Arial\" font-size=\"9.00\" stroke=\"none\" text-anchor=\"start\" transform=\"translate(482.4,42.6)\">\n",
       "\t\t<text><tspan font-family=\"Arial\">Pontos</tspan></text>\n",
       "\t</g>\n",
       "</g>\n",
       "<g color=\"black\" fill=\"none\" stroke=\"currentColor\" stroke-linecap=\"butt\" stroke-linejoin=\"miter\" stroke-width=\"0.50\">\n",
       "\t<path d=\"M445.3,39.6 L476.1,39.6 M28.6,397.6 L58.4,368.3 L88.2,339.8 L117.9,312.1 L147.7,285.3 L177.5,259.2   L207.3,234.0 L237.1,209.7 L266.9,186.1 L296.6,163.4 L326.4,141.5 L356.2,120.4 L386.0,100.2 L415.8,80.8   L445.5,62.2 L475.3,44.4 L505.1,27.4 L534.9,11.3  \" stroke=\"rgb(  0, 114, 189)\"/>\t<use color=\"rgb(  0, 114, 189)\" x=\"460.7\" xlink:href=\"#gpDot\" y=\"39.6\"/>\n",
       "\n",
       "</g>\n",
       "\t</g>\n",
       "<g color=\"#FFFFFF\" fill=\"none\" stroke=\"rgb(  0, 114, 189)\" stroke-linecap=\"butt\" stroke-linejoin=\"miter\" stroke-width=\"2.00\">\n",
       "</g>\n",
       "<g color=\"black\" fill=\"none\" stroke=\"currentColor\" stroke-linecap=\"butt\" stroke-linejoin=\"miter\" stroke-width=\"2.00\">\n",
       "</g>\n",
       "<g color=\"black\" fill=\"none\" stroke=\"black\" stroke-linecap=\"butt\" stroke-linejoin=\"miter\" stroke-width=\"0.50\">\n",
       "\t<path d=\"M28.6,397.6 L544.3,397.6 M28.6,11.3 L544.3,11.3 M28.6,397.6 L28.6,11.3 M544.3,397.6 L544.3,11.3    \" stroke=\"rgb( 38,  38,  38)\"/></g>\n",
       "<g color=\"black\" fill=\"none\" stroke=\"rgb( 38,  38,  38)\" stroke-linecap=\"butt\" stroke-linejoin=\"miter\" stroke-width=\"1.00\">\n",
       "</g>\n",
       "<g color=\"black\" fill=\"none\" stroke=\"currentColor\" stroke-linecap=\"butt\" stroke-linejoin=\"miter\" stroke-width=\"1.00\">\n",
       "</g>\n",
       "</g>\n",
       "</svg>"
      ],
      "text/plain": [
       "<IPython.core.display.SVG object>"
      ]
     },
     "metadata": {},
     "output_type": "display_data"
    }
   ],
   "source": [
    "a = 0; b = pi/4; %intervallum\n",
    "alpha = 1; beta = 2; %peremertek\n",
    "N = 16; \n",
    "h = (b-a)/(N+1);\n",
    "e = ones(N+2,1);\n",
    "\n",
    "% A_h_hullam\n",
    "A_h_tilde = (1/h^2)*spdiags([-e 2*e -e], [-1 0 1], N+2, N+2);\n",
    "A_h_tilde(1,1) = 1; A_h_tilde(1,2) = 0;\n",
    "A_h_tilde(N+2,N+1) = 0; A_h_tilde(N+2,N+2) = 1;\n",
    "\n",
    "% f_hullam jobboldal\n",
    "f = ones(N+2,1);\n",
    "f_hullam = f;\n",
    "f_hullam(1) = alpha;\n",
    "f_hullam(N+2) = beta;\n",
    "\n",
    "% Megoldalni a LAER-t\n",
    "y_hullam = A_h_tilde\\f_hullam;\n",
    "x = linspace(a,b,N+2)';\n",
    "exact = -0.5*x.^2+(4/pi+pi/8)*x+1;\n",
    "\n",
    "%Plot\n",
    "plot(x,y_hullam,'m+',x,exact)\n",
    "legend('Numerikus','Pontos')\n"
   ]
  },
  {
   "cell_type": "code",
   "execution_count": null,
   "metadata": {},
   "outputs": [],
   "source": []
  },
  {
   "cell_type": "markdown",
   "metadata": {},
   "source": [
    "<br>\n",
    "(b) Módosítsuk az előzőleg megírt programunkat annak fényében, hogy a rendszer mérete redukálható a peremértékek jobboldali beépítésével! Mérjük a hibavektor maximum normáját! Mit tapasztalunk az intervallum számának növelésével?\n",
    "\n",
    "<br>"
   ]
  },
  {
   "cell_type": "code",
   "execution_count": 18,
   "metadata": {},
   "outputs": [
    {
     "data": {
      "image/svg+xml": [
       "<svg height=\"420px\" viewBox=\"0 0 560 420\" width=\"560px\" xmlns=\"http://www.w3.org/2000/svg\" xmlns:xlink=\"http://www.w3.org/1999/xlink\">\n",
       "\n",
       "<title>Gnuplot</title>\n",
       "<desc>Produced by GNUPLOT 5.2 patchlevel 8 </desc>\n",
       "\n",
       "<g id=\"gnuplot_canvas\">\n",
       "\n",
       "<rect fill=\"#ffffff\" height=\"420\" width=\"560\" x=\"0\" y=\"0\"/>\n",
       "<defs>\n",
       "\n",
       "\t<circle id=\"gpDot\" r=\"0.5\" stroke=\"currentColor\" stroke-width=\"0.5\"/>\n",
       "\t<path d=\"M-1,0 h2 M0,-1 v2\" id=\"gpPt0\" stroke=\"currentColor\" stroke-width=\"0.357\"/>\n",
       "\t<path d=\"M-1,-1 L1,1 M1,-1 L-1,1\" id=\"gpPt1\" stroke=\"currentColor\" stroke-width=\"0.357\"/>\n",
       "\t<path d=\"M-1,0 L1,0 M0,-1 L0,1 M-1,-1 L1,1 M-1,1 L1,-1\" id=\"gpPt2\" stroke=\"currentColor\" stroke-width=\"0.357\"/>\n",
       "\t<rect height=\"2\" id=\"gpPt3\" stroke=\"currentColor\" stroke-width=\"0.357\" width=\"2\" x=\"-1\" y=\"-1\"/>\n",
       "\t<rect fill=\"currentColor\" height=\"2\" id=\"gpPt4\" stroke=\"currentColor\" stroke-width=\"0.357\" width=\"2\" x=\"-1\" y=\"-1\"/>\n",
       "\t<circle cx=\"0\" cy=\"0\" id=\"gpPt5\" r=\"1\" stroke=\"currentColor\" stroke-width=\"0.357\"/>\n",
       "\t<use fill=\"currentColor\" id=\"gpPt6\" stroke=\"none\" xlink:href=\"#gpPt5\"/>\n",
       "\t<path d=\"M0,-1.33 L-1.33,0.67 L1.33,0.67 z\" id=\"gpPt7\" stroke=\"currentColor\" stroke-width=\"0.357\"/>\n",
       "\t<use fill=\"currentColor\" id=\"gpPt8\" stroke=\"none\" xlink:href=\"#gpPt7\"/>\n",
       "\t<use id=\"gpPt9\" stroke=\"currentColor\" transform=\"rotate(180)\" xlink:href=\"#gpPt7\"/>\n",
       "\t<use fill=\"currentColor\" id=\"gpPt10\" stroke=\"none\" xlink:href=\"#gpPt9\"/>\n",
       "\t<use id=\"gpPt11\" stroke=\"currentColor\" transform=\"rotate(45)\" xlink:href=\"#gpPt3\"/>\n",
       "\t<use fill=\"currentColor\" id=\"gpPt12\" stroke=\"none\" xlink:href=\"#gpPt11\"/>\n",
       "\t<path d=\"M0,1.330 L1.265,0.411 L0.782,-1.067 L-0.782,-1.076 L-1.265,0.411 z\" id=\"gpPt13\" stroke=\"currentColor\" stroke-width=\"0.357\"/>\n",
       "\t<use fill=\"currentColor\" id=\"gpPt14\" stroke=\"none\" xlink:href=\"#gpPt13\"/>\n",
       "\t<filter filterUnits=\"objectBoundingBox\" height=\"1\" id=\"textbox\" width=\"1\" x=\"0\" y=\"0\">\n",
       "\t  <feFlood flood-color=\"#FFFFFF\" flood-opacity=\"1\" result=\"bgnd\"/>\n",
       "\t  <feComposite in=\"SourceGraphic\" in2=\"bgnd\" operator=\"atop\"/>\n",
       "\t</filter>\n",
       "\t<filter filterUnits=\"objectBoundingBox\" height=\"1\" id=\"greybox\" width=\"1\" x=\"0\" y=\"0\">\n",
       "\t  <feFlood flood-color=\"lightgrey\" flood-opacity=\"1\" result=\"grey\"/>\n",
       "\t  <feComposite in=\"SourceGraphic\" in2=\"grey\" operator=\"atop\"/>\n",
       "\t</filter>\n",
       "</defs>\n",
       "<g color=\"#FFFFFF\" fill=\"none\" stroke=\"currentColor\" stroke-linecap=\"butt\" stroke-linejoin=\"miter\" stroke-width=\"1.00\">\n",
       "</g>\n",
       "<g color=\"black\" fill=\"none\" stroke=\"currentColor\" stroke-linecap=\"butt\" stroke-linejoin=\"miter\" stroke-width=\"1.00\">\n",
       "\t<g shape-rendering=\"crispEdges\" stroke=\"none\">\n",
       "\t\t<polygon fill=\"rgb(255, 255, 255)\" points=\"28.6,397.6 544.2,397.6 544.2,11.4 28.6,11.4 \"/>\n",
       "\t</g>\n",
       "</g>\n",
       "<g color=\"black\" fill=\"none\" stroke=\"currentColor\" stroke-linecap=\"butt\" stroke-linejoin=\"miter\" stroke-width=\"1.00\">\n",
       "\t<path d=\"M28.6,397.6 L36.4,397.6 M544.3,397.6 L536.5,397.6  \" stroke=\"rgb(  0,   0,   0)\"/>\t<g fill=\"rgb(38,38,38)\" font-family=\"Arial\" font-size=\"10.00\" stroke=\"none\" text-anchor=\"end\" transform=\"translate(23.4,400.9)\">\n",
       "\t\t<text><tspan font-family=\"Arial\">1</tspan></text>\n",
       "\t</g>\n",
       "</g>\n",
       "<g color=\"black\" fill=\"none\" stroke=\"currentColor\" stroke-linecap=\"butt\" stroke-linejoin=\"miter\" stroke-width=\"1.00\">\n",
       "\t<path d=\"M28.6,320.3 L36.4,320.3 M544.3,320.3 L536.5,320.3  \" stroke=\"rgb(  0,   0,   0)\"/>\t<g fill=\"rgb(38,38,38)\" font-family=\"Arial\" font-size=\"10.00\" stroke=\"none\" text-anchor=\"end\" transform=\"translate(23.4,323.6)\">\n",
       "\t\t<text><tspan font-family=\"Arial\">1.2</tspan></text>\n",
       "\t</g>\n",
       "</g>\n",
       "<g color=\"black\" fill=\"none\" stroke=\"currentColor\" stroke-linecap=\"butt\" stroke-linejoin=\"miter\" stroke-width=\"1.00\">\n",
       "\t<path d=\"M28.6,243.1 L36.4,243.1 M544.3,243.1 L536.5,243.1  \" stroke=\"rgb(  0,   0,   0)\"/>\t<g fill=\"rgb(38,38,38)\" font-family=\"Arial\" font-size=\"10.00\" stroke=\"none\" text-anchor=\"end\" transform=\"translate(23.4,246.4)\">\n",
       "\t\t<text><tspan font-family=\"Arial\">1.4</tspan></text>\n",
       "\t</g>\n",
       "</g>\n",
       "<g color=\"black\" fill=\"none\" stroke=\"currentColor\" stroke-linecap=\"butt\" stroke-linejoin=\"miter\" stroke-width=\"1.00\">\n",
       "\t<path d=\"M28.6,165.8 L36.4,165.8 M544.3,165.8 L536.5,165.8  \" stroke=\"rgb(  0,   0,   0)\"/>\t<g fill=\"rgb(38,38,38)\" font-family=\"Arial\" font-size=\"10.00\" stroke=\"none\" text-anchor=\"end\" transform=\"translate(23.4,169.1)\">\n",
       "\t\t<text><tspan font-family=\"Arial\">1.6</tspan></text>\n",
       "\t</g>\n",
       "</g>\n",
       "<g color=\"black\" fill=\"none\" stroke=\"currentColor\" stroke-linecap=\"butt\" stroke-linejoin=\"miter\" stroke-width=\"1.00\">\n",
       "\t<path d=\"M28.6,88.6 L36.4,88.6 M544.3,88.6 L536.5,88.6  \" stroke=\"rgb(  0,   0,   0)\"/>\t<g fill=\"rgb(38,38,38)\" font-family=\"Arial\" font-size=\"10.00\" stroke=\"none\" text-anchor=\"end\" transform=\"translate(23.4,91.9)\">\n",
       "\t\t<text><tspan font-family=\"Arial\">1.8</tspan></text>\n",
       "\t</g>\n",
       "</g>\n",
       "<g color=\"black\" fill=\"none\" stroke=\"currentColor\" stroke-linecap=\"butt\" stroke-linejoin=\"miter\" stroke-width=\"1.00\">\n",
       "\t<path d=\"M28.6,11.3 L36.4,11.3 M544.3,11.3 L536.5,11.3  \" stroke=\"rgb(  0,   0,   0)\"/>\t<g fill=\"rgb(38,38,38)\" font-family=\"Arial\" font-size=\"10.00\" stroke=\"none\" text-anchor=\"end\" transform=\"translate(23.4,14.6)\">\n",
       "\t\t<text><tspan font-family=\"Arial\">2</tspan></text>\n",
       "\t</g>\n",
       "</g>\n",
       "<g color=\"black\" fill=\"none\" stroke=\"currentColor\" stroke-linecap=\"butt\" stroke-linejoin=\"miter\" stroke-width=\"1.00\">\n",
       "\t<path d=\"M28.6,397.6 L28.6,389.8 M28.6,11.3 L28.6,19.1  \" stroke=\"rgb(  0,   0,   0)\"/>\t<g fill=\"rgb(38,38,38)\" font-family=\"Arial\" font-size=\"10.00\" stroke=\"none\" text-anchor=\"middle\" transform=\"translate(28.6,412.1)\">\n",
       "\t\t<text><tspan font-family=\"Arial\">0</tspan></text>\n",
       "\t</g>\n",
       "</g>\n",
       "<g color=\"black\" fill=\"none\" stroke=\"currentColor\" stroke-linecap=\"butt\" stroke-linejoin=\"miter\" stroke-width=\"1.00\">\n",
       "\t<path d=\"M157.5,397.6 L157.5,389.8 M157.5,11.3 L157.5,19.1  \" stroke=\"rgb(  0,   0,   0)\"/>\t<g fill=\"rgb(38,38,38)\" font-family=\"Arial\" font-size=\"10.00\" stroke=\"none\" text-anchor=\"middle\" transform=\"translate(157.5,412.1)\">\n",
       "\t\t<text><tspan font-family=\"Arial\">0.2</tspan></text>\n",
       "\t</g>\n",
       "</g>\n",
       "<g color=\"black\" fill=\"none\" stroke=\"currentColor\" stroke-linecap=\"butt\" stroke-linejoin=\"miter\" stroke-width=\"1.00\">\n",
       "\t<path d=\"M286.5,397.6 L286.5,389.8 M286.5,11.3 L286.5,19.1  \" stroke=\"rgb(  0,   0,   0)\"/>\t<g fill=\"rgb(38,38,38)\" font-family=\"Arial\" font-size=\"10.00\" stroke=\"none\" text-anchor=\"middle\" transform=\"translate(286.5,412.1)\">\n",
       "\t\t<text><tspan font-family=\"Arial\">0.4</tspan></text>\n",
       "\t</g>\n",
       "</g>\n",
       "<g color=\"black\" fill=\"none\" stroke=\"currentColor\" stroke-linecap=\"butt\" stroke-linejoin=\"miter\" stroke-width=\"1.00\">\n",
       "\t<path d=\"M415.4,397.6 L415.4,389.8 M415.4,11.3 L415.4,19.1  \" stroke=\"rgb(  0,   0,   0)\"/>\t<g fill=\"rgb(38,38,38)\" font-family=\"Arial\" font-size=\"10.00\" stroke=\"none\" text-anchor=\"middle\" transform=\"translate(415.4,412.1)\">\n",
       "\t\t<text><tspan font-family=\"Arial\">0.6</tspan></text>\n",
       "\t</g>\n",
       "</g>\n",
       "<g color=\"black\" fill=\"none\" stroke=\"currentColor\" stroke-linecap=\"butt\" stroke-linejoin=\"miter\" stroke-width=\"1.00\">\n",
       "\t<path d=\"M544.3,397.6 L544.3,389.8 M544.3,11.3 L544.3,19.1  \" stroke=\"rgb(  0,   0,   0)\"/>\t<g fill=\"rgb(38,38,38)\" font-family=\"Arial\" font-size=\"10.00\" stroke=\"none\" text-anchor=\"middle\" transform=\"translate(544.3,412.1)\">\n",
       "\t\t<text><tspan font-family=\"Arial\">0.8</tspan></text>\n",
       "\t</g>\n",
       "</g>\n",
       "<g color=\"black\" fill=\"none\" stroke=\"currentColor\" stroke-linecap=\"butt\" stroke-linejoin=\"miter\" stroke-width=\"1.00\">\n",
       "</g>\n",
       "<g color=\"black\" fill=\"none\" stroke=\"currentColor\" stroke-linecap=\"butt\" stroke-linejoin=\"miter\" stroke-width=\"1.00\">\n",
       "</g>\n",
       "<g color=\"black\" fill=\"none\" stroke=\"currentColor\" stroke-linecap=\"butt\" stroke-linejoin=\"miter\" stroke-width=\"1.00\">\n",
       "\t<path d=\"M439.0,47.1 L439.0,16.9 L539.1,16.9 L539.1,47.1 L439.0,47.1 Z  \" stroke=\"black\"/></g>\n",
       "\t<g id=\"gnuplot_plot_1a\"><title>Numerikus</title>\n",
       "<g color=\"#FFFFFF\" fill=\"none\" stroke=\"black\" stroke-linecap=\"butt\" stroke-linejoin=\"miter\" stroke-width=\"0.50\">\n",
       "</g>\n",
       "<g color=\"black\" fill=\"none\" stroke=\"currentColor\" stroke-linecap=\"butt\" stroke-linejoin=\"miter\" stroke-width=\"0.50\">\n",
       "\t<g fill=\"rgb(0,0,0)\" font-family=\"Arial\" font-size=\"9.00\" stroke=\"none\" text-anchor=\"start\" transform=\"translate(482.4,27.5)\">\n",
       "\t\t<text><tspan font-family=\"Arial\">Numerikus</tspan></text>\n",
       "\t</g>\n",
       "</g>\n",
       "<g color=\"black\" fill=\"none\" stroke=\"currentColor\" stroke-linecap=\"butt\" stroke-linejoin=\"miter\" stroke-width=\"0.50\">\n",
       "\t<use color=\"rgb(255,   0, 255)\" transform=\"translate(58.4,368.3) scale(5.60)\" xlink:href=\"#gpPt0\"/>\n",
       "\t<use color=\"rgb(255,   0, 255)\" transform=\"translate(88.2,339.8) scale(5.60)\" xlink:href=\"#gpPt0\"/>\n",
       "\t<use color=\"rgb(255,   0, 255)\" transform=\"translate(117.9,312.1) scale(5.60)\" xlink:href=\"#gpPt0\"/>\n",
       "\t<use color=\"rgb(255,   0, 255)\" transform=\"translate(147.7,285.3) scale(5.60)\" xlink:href=\"#gpPt0\"/>\n",
       "\t<use color=\"rgb(255,   0, 255)\" transform=\"translate(177.5,259.2) scale(5.60)\" xlink:href=\"#gpPt0\"/>\n",
       "\t<use color=\"rgb(255,   0, 255)\" transform=\"translate(207.3,234.0) scale(5.60)\" xlink:href=\"#gpPt0\"/>\n",
       "\t<use color=\"rgb(255,   0, 255)\" transform=\"translate(237.1,209.7) scale(5.60)\" xlink:href=\"#gpPt0\"/>\n",
       "\t<use color=\"rgb(255,   0, 255)\" transform=\"translate(266.9,186.1) scale(5.60)\" xlink:href=\"#gpPt0\"/>\n",
       "\t<use color=\"rgb(255,   0, 255)\" transform=\"translate(296.6,163.4) scale(5.60)\" xlink:href=\"#gpPt0\"/>\n",
       "\t<use color=\"rgb(255,   0, 255)\" transform=\"translate(326.4,141.5) scale(5.60)\" xlink:href=\"#gpPt0\"/>\n",
       "\t<use color=\"rgb(255,   0, 255)\" transform=\"translate(356.2,120.4) scale(5.60)\" xlink:href=\"#gpPt0\"/>\n",
       "\t<use color=\"rgb(255,   0, 255)\" transform=\"translate(386.0,100.2) scale(5.60)\" xlink:href=\"#gpPt0\"/>\n",
       "\t<use color=\"rgb(255,   0, 255)\" transform=\"translate(415.8,80.8) scale(5.60)\" xlink:href=\"#gpPt0\"/>\n",
       "\t<use color=\"rgb(255,   0, 255)\" transform=\"translate(445.5,62.2) scale(5.60)\" xlink:href=\"#gpPt0\"/>\n",
       "\t<use color=\"rgb(255,   0, 255)\" transform=\"translate(475.3,44.4) scale(5.60)\" xlink:href=\"#gpPt0\"/>\n",
       "\t<use color=\"rgb(255,   0, 255)\" transform=\"translate(505.1,27.4) scale(5.60)\" xlink:href=\"#gpPt0\"/>\n",
       "\t<use color=\"rgb(255,   0, 255)\" transform=\"translate(460.7,24.5) scale(5.60)\" xlink:href=\"#gpPt0\"/>\n",
       "</g>\n",
       "\t</g>\n",
       "\t<g id=\"gnuplot_plot_2a\"><title>Pontos</title>\n",
       "<g color=\"black\" fill=\"none\" stroke=\"currentColor\" stroke-linecap=\"butt\" stroke-linejoin=\"miter\" stroke-width=\"0.50\">\n",
       "\t<g fill=\"rgb(0,0,0)\" font-family=\"Arial\" font-size=\"9.00\" stroke=\"none\" text-anchor=\"start\" transform=\"translate(482.4,42.6)\">\n",
       "\t\t<text><tspan font-family=\"Arial\">Pontos</tspan></text>\n",
       "\t</g>\n",
       "</g>\n",
       "<g color=\"black\" fill=\"none\" stroke=\"currentColor\" stroke-linecap=\"butt\" stroke-linejoin=\"miter\" stroke-width=\"0.50\">\n",
       "\t<path d=\"M445.3,39.6 L476.1,39.6 M58.4,368.3 L88.2,339.8 L117.9,312.1 L147.7,285.3 L177.5,259.2 L207.3,234.0   L237.1,209.7 L266.9,186.1 L296.6,163.4 L326.4,141.5 L356.2,120.4 L386.0,100.2 L415.8,80.8 L445.5,62.2   L475.3,44.4 L505.1,27.4  \" stroke=\"rgb(  0, 114, 189)\"/>\t<use color=\"rgb(  0, 114, 189)\" x=\"460.7\" xlink:href=\"#gpDot\" y=\"39.6\"/>\n",
       "\n",
       "</g>\n",
       "\t</g>\n",
       "<g color=\"#FFFFFF\" fill=\"none\" stroke=\"rgb(  0, 114, 189)\" stroke-linecap=\"butt\" stroke-linejoin=\"miter\" stroke-width=\"2.00\">\n",
       "</g>\n",
       "<g color=\"black\" fill=\"none\" stroke=\"currentColor\" stroke-linecap=\"butt\" stroke-linejoin=\"miter\" stroke-width=\"2.00\">\n",
       "</g>\n",
       "<g color=\"black\" fill=\"none\" stroke=\"black\" stroke-linecap=\"butt\" stroke-linejoin=\"miter\" stroke-width=\"0.50\">\n",
       "\t<path d=\"M28.6,397.6 L544.3,397.6 M28.6,11.3 L544.3,11.3 M28.6,397.6 L28.6,11.3 M544.3,397.6 L544.3,11.3    \" stroke=\"rgb( 38,  38,  38)\"/></g>\n",
       "<g color=\"black\" fill=\"none\" stroke=\"rgb( 38,  38,  38)\" stroke-linecap=\"butt\" stroke-linejoin=\"miter\" stroke-width=\"1.00\">\n",
       "</g>\n",
       "<g color=\"black\" fill=\"none\" stroke=\"currentColor\" stroke-linecap=\"butt\" stroke-linejoin=\"miter\" stroke-width=\"1.00\">\n",
       "</g>\n",
       "</g>\n",
       "</svg>"
      ],
      "text/plain": [
       "<IPython.core.display.SVG object>"
      ]
     },
     "metadata": {},
     "output_type": "display_data"
    }
   ],
   "source": [
    "a = 0; b = pi/4; %intervallum\n",
    "alpha = 1; beta = 2; %peremertek\n",
    "N = 16; \n",
    "h = (b-a)/(N+1);\n",
    "e = ones(N,1);\n",
    "\n",
    "% A_h\n",
    "A_h = (1/h^2)*spdiags([-e 2*e -e], [-1 0 1], N, N);\n",
    "\n",
    "% f_hullam jobboldal\n",
    "f = ones(N,1);\n",
    "f_hullam = f;\n",
    "f_hullam(1) = 1 + alpha/h^2;\n",
    "f_hullam(N) = 1 + beta/h^2;\n",
    "\n",
    "% Megoldalni a LAER-t\n",
    "y = A_h\\f_hullam;\n",
    "x = linspace(a+h,b-h,N)';\n",
    "exact = -0.5*x.^2+(4/pi+pi/8)*x+1;\n",
    "\n",
    "%Plot\n",
    "plot(x,y,'m+',x,exact)\n",
    "legend('Numerikus','Pontos')\n",
    "\n"
   ]
  },
  {
   "cell_type": "markdown",
   "metadata": {},
   "source": [
    "<b>2.feladat.</b> Tekintsük az alábbi kétpontos peremérték problémát\n",
    "\n",
    "\\begin{cases}\n",
    "u''(x)-u(x)=0,\\quad x\\in(0,1)\\\\\n",
    "u(0)=0\\\\\n",
    "u(1)=1\n",
    "\\end{cases}\n",
    "\n",
    "Alkalmazzuk az előző feladatban megismert redukált eljárást! Mérjük a hibát maximum, egyes és kettes normában! A pontos megoldás ismeretében adjunk becslést a konvergencia rendjére!<br>"
   ]
  },
  {
   "cell_type": "code",
   "execution_count": 22,
   "metadata": {},
   "outputs": [
    {
     "name": "stdout",
     "output_type": "stream",
     "text": [
      "max_norma =  0.000015294\n",
      "ans =  0.000054216\n"
     ]
    }
   ],
   "source": [
    "a = 0; b = 1; %intervallum\n",
    "alpha = 0; beta = 1; %peremertek\n",
    "N = 16; \n",
    "h = (b-a)/(N+1);\n",
    "e = ones(N+2,1);\n",
    "\n",
    "%% u\"-u=0\n",
    "%% -u\"+u=0\n",
    "\n",
    "% A_h_hullam\n",
    "A_h_tilde = (1/h^2)*spdiags([-e 2*e+h^2 -e], [-1 0 1], N+2, N+2);\n",
    "A_h_tilde(1,1) = 1; A_h_tilde(1,2) = 0;\n",
    "A_h_tilde(N+2,N+1) = 0; A_h_tilde(N+2,N+2) = 1;\n",
    "\n",
    "% f_hullam jobboldal\n",
    "f = zeros(N+2,1);\n",
    "f_hullam = f;\n",
    "f_hullam(1) = alpha;\n",
    "f_hullam(N+2) = beta;\n",
    "\n",
    "% Megoldalni a LAER-t\n",
    "y_hullam = A_h_tilde\\f_hullam;\n",
    "x = linspace(a,b,N+2)';\n",
    "exact = sinh(x)/sinh(1);\n",
    "\n",
    "max_norma = norm(y_hullam-exact,'inf')\n",
    "\n",
    "%% 2.feladat / a \n",
    "% Pontos mo ismeretében kettes normaval konvergencia rend becsles"
   ]
  },
  {
   "cell_type": "code",
   "execution_count": 24,
   "metadata": {},
   "outputs": [
    {
     "name": "stdout",
     "output_type": "stream",
     "text": [
      "ans =  3.5449\r\n"
     ]
    }
   ],
   "source": [
    "0.000054216/0.000015294"
   ]
  },
  {
   "cell_type": "code",
   "execution_count": null,
   "metadata": {},
   "outputs": [],
   "source": []
  },
  {
   "cell_type": "code",
   "execution_count": null,
   "metadata": {
    "collapsed": true
   },
   "outputs": [],
   "source": []
  },
  {
   "cell_type": "markdown",
   "metadata": {},
   "source": [
    "#### Neumann-perem"
   ]
  },
  {
   "cell_type": "markdown",
   "metadata": {},
   "source": [
    "<br>\n",
    "\n",
    "<b>3.feladat.</b> Tekintsük az alábbi problémát:\n",
    "\n",
    "\\begin{cases}\n",
    "u''(x)=e^x,\\quad x\\in(0,1)\\\\\n",
    "u'(0)=1\\\\\n",
    "u(1)=e\n",
    "\\end{cases}\n",
    "\n",
    "Alkalmazzuk a Neumann-perem közelítésére tanult \n",
    "\n",
    "(a) első<br>\n",
    "$$\n",
    "\\frac{y_1-y_0}{h}=\\alpha\n",
    "$$\n",
    "(b) második<br>\n",
    "$$\n",
    "\\frac{y_1-y_0}{h}=\\alpha+\\frac{h}{2}f(x_0)\n",
    "$$\n",
    "(c) harmadik\n",
    "$$\n",
    "-\\frac{\\frac{3}{2}y_0-2y_1+\\frac{1}{2}y_2}{h}=\\alpha\n",
    "$$\n",
    "\n",
    "módszert teljes rendszer esetén! Mérjük a hibát maximum normában! A pontos megoldás ismeretében adjunk becslést a konvergencia rendjére!<br> "
   ]
  },
  {
   "cell_type": "code",
   "execution_count": null,
   "metadata": {},
   "outputs": [],
   "source": []
  },
  {
   "cell_type": "code",
   "execution_count": null,
   "metadata": {},
   "outputs": [],
   "source": []
  },
  {
   "cell_type": "code",
   "execution_count": null,
   "metadata": {},
   "outputs": [],
   "source": []
  },
  {
   "cell_type": "markdown",
   "metadata": {},
   "source": [
    "#### Általános másodrendű lineáris kétpontos p.é.p. Dirichlet-peremmel"
   ]
  },
  {
   "cell_type": "markdown",
   "metadata": {},
   "source": [
    "\n",
    "<b>4.feladat.</b> Tekintsük a másodrendű lineáris kétpontos peremérték-problémát\n",
    "\n",
    "\\begin{cases}\n",
    "a(x)u''(x)+b(x)u'(x)+c(x)u(x)=f(x), x\\in (a,b)&\\\\\n",
    "u(a)=\\alpha &\\\\\n",
    "u(b)=\\beta\n",
    "\\end{cases}\n",
    "\n",
    "Másodrendű véges differenciás közelítést alkalmazva írjuk fel a teljes rendszer alakját!\n",
    "<br>\n",
    "\n",
    "5.feladat. Írjunk a fenti probléma teljes rendszer alakjához tartozó programot! Teszteljük programunkat a feladatsor bevezető példáin!\n"
   ]
  },
  {
   "cell_type": "code",
   "execution_count": 3,
   "metadata": {
    "collapsed": true
   },
   "outputs": [],
   "source": [
    "[h,x,y]=kpep(0,pi/4,1,2,64);\n",
    "%plot(x,y)"
   ]
  },
  {
   "cell_type": "code",
   "execution_count": 1,
   "metadata": {},
   "outputs": [
    {
     "name": "stdout",
     "output_type": "stream",
     "text": [
      "maxnorma =    2.4425e-15\n"
     ]
    },
    {
     "data": {
      "image/png": "[encoded data removed]",
      "text/plain": [
       "<IPython.core.display.Image object>"
      ]
     },
     "metadata": {},
     "output_type": "display_data"
    }
   ],
   "source": [
    "%Teszt1: 1.feladat.\n",
    "%a=feval(@(x)(-e),x);\n",
    "%b=feval(@(x)(nulla),x);\n",
    "%c=feval(@(x)(nulla),x);\n",
    "%f=feval(@(x)(e),x);\n",
    "inta=0; intb=pi/4; alpha=1; beta=2; N=16;\n",
    "[h,x,y]=kpep(inta,intb,alpha,beta,N);\n",
    "exact=-0.5*x.^2+(4/pi+pi/8)*x+1;\n",
    "plot(x,y,'r+',x,exact)\n",
    "legend('Numerikus','Pontos','Location','southeast')\n",
    "maxnorma=norm(y-exact,'inf')"
   ]
  },
  {
   "cell_type": "code",
   "execution_count": 9,
   "metadata": {},
   "outputs": [
    {
     "name": "stdout",
     "output_type": "stream",
     "text": [
      "rate =\n",
      "\n",
      "   1.9148   1.9547\n",
      "\n"
     ]
    },
    {
     "data": {
      "image/png": "[encoded data removed]",
      "text/plain": [
       "<IPython.core.display.Image object>"
      ]
     },
     "metadata": {},
     "output_type": "display_data"
    }
   ],
   "source": [
    "%Teszt2: 2.feladat.\n",
    "%a=feval(@(x)(e),x);\n",
    "%b=feval(@(x)(nulla),x);\n",
    "%c=feval(@(x)(-e),x);\n",
    "%f=feval(@(x)(nulla),x);\n",
    "inta=0; intb=1; alpha=0; beta=1; N=16;\n",
    "[h,x,y]=kpep(inta,intb,alpha,beta,N);\n",
    "exact=sinh(x)/sinh(1);\n",
    "plot(x,y,'r+',x,exact)\n",
    "legend('Numerikus','Pontos','Location','southeast')\n",
    "N=2^4;\n",
    "for i=1:3\n",
    "    [h,x,y]=kpep(inta,intb,alpha,beta,(N*2^(i-1)));\n",
    "    exact=sinh(x)/sinh(1);\n",
    "    norma2(i)=norm(y-exact,'inf');\n",
    "end\n",
    "for i=1:length(norma2)-1\n",
    "    rate(i)=log2(norma2(i)/norma2(i+1));\n",
    "end\n",
    "rate"
   ]
  },
  {
   "cell_type": "code",
   "execution_count": 1,
   "metadata": {},
   "outputs": [
    {
     "name": "stdout",
     "output_type": "stream",
     "text": [
      "rate =\n",
      "\n",
      "   0.98762   0.99382   0.99691\n",
      "\n"
     ]
    }
   ],
   "source": [
    "% Teszt3: 3.feladat\n",
    "%a=feval(@(x)(e),x);\n",
    "%b=feval(@(x)(nulla),x);\n",
    "%c=feval(@(x)(nulla),x);\n",
    "%f=feval(@(x)(exp(x)),x);\n",
    "%A_h(1,1)=-1/h; A_h(1,2)=1/h;\n",
    "%A_h(N+2,N+1)=0; A_h(N+2,N+2)=1;\n",
    "N=2^4;\n",
    "for i=1:4\n",
    "    [h,x,y]=kpep(0,1,1,e,(N*2^i));\n",
    "    x=linspace(0,1,N*2^i+2)';\n",
    "    exact=exp(x);\n",
    "    norma2(i)=norm(y-exact,'inf');\n",
    "end\n",
    "for i=1:length(norma2)-1\n",
    "    rate(i)=log2(norma2(i)/norma2(i+1));\n",
    "end\n",
    "rate"
   ]
  },
  {
   "cell_type": "code",
   "execution_count": null,
   "metadata": {
    "collapsed": true
   },
   "outputs": [],
   "source": []
  }
 ],
 "metadata": {
  "kernelspec": {
   "display_name": "Octave",
   "language": "octave",
   "name": "octave"
  },
  "language_info": {
   "file_extension": ".m",
   "help_links": [
    {
     "text": "GNU Octave",
     "url": "https://www.gnu.org/software/octave/support.html"
    },
    {
     "text": "Octave Kernel",
     "url": "https://github.com/Calysto/octave_kernel"
    },
    {
     "text": "MetaKernel Magics",
     "url": "https://metakernel.readthedocs.io/en/latest/source/README.html"
    }
   ],
   "mimetype": "text/x-octave",
   "name": "octave",
   "version": "5.1.0"
  }
 },
 "nbformat": 4,
 "nbformat_minor": 1
}
