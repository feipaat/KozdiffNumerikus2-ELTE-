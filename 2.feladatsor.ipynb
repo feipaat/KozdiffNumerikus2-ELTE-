{
 "cells": [
  {
   "cell_type": "markdown",
   "metadata": {},
   "source": [
    "## <center>2. Feladatsor</center>\n",
    "\n",
    "<img src=\"sleeponit.gif\" width=\"870\">\n",
    "\n",
    "<br>\n",
    "<br>\n",
    "\n",
    "## <center> Adams-módszerek </center>\n",
    "<center>\n",
    ",,... and my undertaking must have ended here, if I had depended upon my own resources. But at this point Professor J.C. Adams furnished me with a perfectly satisfactory method of calculating by quadratures the exact theoretical forms of drops of fluids from the Differential Equation of Laplace,...''<br>\n",
    "(F. Bashforth, 1883)\n",
    "</center>\n",
    "<br>\n",
    "<br>\n",
    "\n",
    "\n",
    "<div style=\"width:870 px\">\n",
    "<div style=\"float:left\"><a href=\"https://en.wikipedia.org/wiki/Francis_Bashforth\" target=\"blank\"><img src=\"bashforth.jpg\" width=\"187\" title=\"Francis Bashforth (1819-1912) Matematikus\"/></a></div> \n",
    "<div style=\"float:left\"><a href=\"https://hu.wikipedia.org/wiki/John_Couch_Adams\" target=\"blank\"><img src=\"JCAdams.jpg\" width=\"200\" title=\"John Couch Adams (1819-1892) Csillagász és matematikus\"/></a></div>\n",
    "<div style=\"float:left\"><a href=\"https://en.wikipedia.org/wiki/Forest_Ray_Moulton\" target=\"blank\"><img src=\"Moulton.jpeg\" width=\"209\" title=\"Forest Ray Moulton (1872-1952) Csillagász\"/></div>\n",
    "<div style=\"clear:both\"></div></div> \n",
    "\n",
    "\n"
   ]
  },
  {
   "cell_type": "markdown",
   "metadata": {},
   "source": [
    "<br>\n",
    "<br>\n",
    "\n",
    "### Adams-Bashforth módszerek (AB módszerek)\n",
    "\n",
    "$$y_{i+1}=y_i+h\\sum_{j=1}^kb_j\\ f_{i-j+1}$$\n",
    "Jelölések:\n",
    "+ $k$ lépések száma\n",
    "+ $p=k$ módszer rendje\n",
    "+ lokális csonkolási hiba $C_{p+1}h^{p+1}f^{(p)}(\\xi)$\n",
    "\n",
    "<table style=\"text-align: center\" cellpadding=\"3px\" cellspacing=\"0px\">\n",
    "<tr>\n",
    "<td style=\"border-bottom:1px solid; border-top: 1px solid;\">$p_{}$</td>\n",
    "<td style=\"border-bottom:1px solid; border-top: 1px solid;\">$k_{}$</td>\n",
    "<td style=\"border-bottom:1px solid; border-top: 1px solid;\">$b_1$</td>\n",
    "<td style=\"border-bottom:1px solid; border-top: 1px solid;\">$b_2$</td>\n",
    "<td style=\"border-bottom:1px solid; border-top: 1px solid;\">$b_3$</td>\n",
    "<td style=\"border-bottom:1px solid; border-top: 1px solid;\">$b_4$</td>\n",
    "<td style=\"border-bottom:1px solid; border-top: 1px solid;\">$b_5$</td>\n",
    "<td style=\"border-bottom:1px solid; border-top: 1px solid;\">$b_6$</td>\n",
    "<td style=\"border-bottom:1px solid; border-top: 1px solid;\">$C_{p+1}$</td>\n",
    "</tr>\n",
    "<tr>\n",
    "<td>$$2$$</td>\n",
    "<td>$$2$$</td>\n",
    "<td>$$\\frac{3}{2}$$</td>\n",
    "<td>$$-\\frac{1}{2}$$</td>\n",
    "<td></td>\n",
    "<td></td>\n",
    "<td></td>\n",
    "<td></td>\n",
    "<td>$$\\frac{5}{12}$$</td>\n",
    "</tr>\n",
    "<tr>\n",
    "<td>$$3$$</td>\n",
    "<td>$$3$$</td>\n",
    "<td>$$\\frac{23}{12}$$</td>\n",
    "<td>$$-\\frac{16}{12}$$</td>\n",
    "<td>$$\\frac{5}{12}$$</td>\n",
    "<td></td>\n",
    "<td></td>\n",
    "<td></td>\n",
    "<td>$$\\frac{3}{8}$$</td>\n",
    "</tr>\n",
    "<tr>\n",
    "<td>$$4$$</td>\n",
    "<td>$$4$$</td>\n",
    "<td>$$\\frac{55}{24}$$</td>\n",
    "<td>$$-\\frac{59}{24}$$</td>\n",
    "<td>$$\\frac{37}{24}$$</td>\n",
    "<td>$$-\\frac{9}{24}$$</td>\n",
    "<td></td>\n",
    "<td></td>\n",
    "<td>$$\\frac{251}{720}$$</td>\n",
    "</tr>\n",
    "<tr>\n",
    "<td>$$5$$</td>\n",
    "<td>$$5$$</td>\n",
    "<td>$$\\frac{1901}{720}$$</td>\n",
    "<td>$$-\\frac{2774}{720}$$</td>\n",
    "<td>$$\\frac{2616}{720}$$</td>\n",
    "<td>$$-\\frac{1274}{720}$$</td>\n",
    "<td>$$\\frac{251}{720}$$</td>\n",
    "<td></td>\n",
    "<td>$$\\frac{95}{288}$$</td>\n",
    "</tr>\n",
    "<tr>\n",
    "<td style=\"border-bottom:1px solid;\">$$6$$</td>\n",
    "<td style=\"border-bottom:1px solid;\">$$6$$</td>\n",
    "<td style=\"border-bottom:1px solid;\">$$\\frac{4277}{1440}$$</td>\n",
    "<td style=\"border-bottom:1px solid;\">$$-\\frac{7923}{1440}$$</td>\n",
    "<td style=\"border-bottom:1px solid;\">$$\\frac{9982}{1440}$$</td>\n",
    "<td style=\"border-bottom:1px solid;\">$$-\\frac{7298}{1440}$$</td>\n",
    "<td style=\"border-bottom:1px solid;\">$$\\frac{2877}{1440}$$</td>\n",
    "<td style=\"border-bottom:1px solid;\">$$-\\frac{475}{1440}$$</td>\n",
    "<td style=\"border-bottom:1px solid;\">$$\\frac{19087}{60480}$$</td>\n",
    "</tr>\n",
    "</table>\n",
    "<br>\n",
    "<br>\n"
   ]
  },
  {
   "cell_type": "markdown",
   "metadata": {},
   "source": [
    "<b>1.feladat.</b> Tekintsük az alábbi kezdetiérték-problémát:\n",
    "\n",
    "\\begin{cases}\n",
    "u'(t)= u(t)+t&\\\\\n",
    "u(0)=2, &\n",
    "\\end{cases}\n",
    "\n",
    "ahol $t\\in [0,1]$. Számoljuk ki a feladat közelítő megoldását AB3 módszer segítségével, ha\n",
    "\n",
    "<br>\n",
    "(a) egy RK3 módszerrel indítjuk el az AB3 módszert,<br>\n",
    "(b) az EE módszerrel indítjuk el az AB3 módszert, <br>\n",
    "(c) egy RK2 módszerrel indítjuk el az AB3 módszert.<br>\n",
    "\n",
    "A pontos és a numerikus eredményről készítsünk ábrát! Mit tapasztalunk az egyes esetekben konvergencia rendet illetően, ha maximum normában mérünk és \n",
    "<br>\n",
    "+ a pontos megoldásból számolunk,\n",
    "+ finom rács technikával számolunk?"
   ]
  },
  {
   "cell_type": "code",
   "execution_count": 2,
   "metadata": {},
   "outputs": [
    {
     "name": "stdout",
     "output_type": "stream",
     "text": [
      "ans =\n",
      "\n",
      "   0.000000   0.004208   0.010274   0.015496   0.021986   0.030728\n",
      "\n"
     ]
    },
    {
     "data": {
      "image/png": "[encoded data removed]",
      "text/plain": [
       "<IPython.core.display.Image object>"
      ]
     },
     "metadata": {},
     "output_type": "display_data"
    }
   ],
   "source": [
    "[h,t,y]=AB3(0,1,2,5);\n",
    "plot(t,y,'*'); \n",
    "hold on\n",
    "exact=3*exp(t)-t-1;\n",
    "plot(t,exact);\n",
    "hold off\n",
    "abs(exact-y)\n",
    "\n"
   ]
  },
  {
   "cell_type": "code",
   "execution_count": 7,
   "metadata": {},
   "outputs": [
    {
     "name": "stdout",
     "output_type": "stream",
     "text": [
      "rate =\r\n",
      "\r\n",
      "   2.8176   2.9107   2.9557   2.9779   2.9890   2.9945\r\n",
      "\r\n"
     ]
    }
   ],
   "source": [
    "%% Maxmimum norma pontos megoldasbol\n",
    "clear all\n",
    "N=8;\n",
    "for i=1:7\n",
    "    [h,t,y]=AB3(0,1,2,N*2^(i-1));\n",
    "    exact=3*exp(t)-t-1;\n",
    "    norma(i)=norm(exact-y,'inf');\n",
    "end\n",
    "for i=1:length(norma)-1\n",
    "    rate(i)=log2(norma(i)/norma(i+1));\n",
    "end\n",
    "rate"
   ]
  },
  {
   "cell_type": "code",
   "execution_count": 8,
   "metadata": {},
   "outputs": [
    {
     "name": "stdout",
     "output_type": "stream",
     "text": [
      "rate =\r\n",
      "\r\n",
      "   2.9839   2.9920\r\n",
      "\r\n"
     ]
    }
   ],
   "source": [
    "%% Max norma finom racs megoldasbol\n",
    "clear all\n",
    "[h,t,y]=AB3(0,1,2,2^14);\n",
    "finommo=y;\n",
    "N=2^7;\n",
    "for i=1:3\n",
    "    [h,t,y]=AB3(0,1,2,N*2^(i-1));\n",
    "    exact=finommo(1:2^(8-i):2^14+1);\n",
    "    norma2(i)=norm(y-exact,'inf');\n",
    "end\n",
    "for i=1:length(norma2)-1\n",
    "    rate(i)=log2(norma2(i)/norma2(i+1));\n",
    "end\n",
    "rate\n"
   ]
  },
  {
   "cell_type": "markdown",
   "metadata": {},
   "source": [
    "<b>2.feladat.</b> Tekintsük az előző félévben vizsgált matematikai inga gerjesztésmentes mozgásegyenletét az alábbi egyszerűsített alakban\n",
    "\\begin{cases}\n",
    "u''(t)=-0.3u'(t)-sin(u(t))&\\\\\n",
    "u(0)=\\pi/2&\\\\\n",
    "u'(0)=0&\n",
    "\\end{cases}\n",
    "\n",
    "$ŧ\\in [0,15]$ adott kezdeti feltételek mellett. Írjuk fel a fenti másodrendű egyenletet rendszer alakban! A kapott rendszerre alkalmazzuk az AB3 módszert RK3 módszerrel indítva. Mérjük meg rendszerre vonatkozóan a konvergencia rendjét finom rács technikával kettes normára vonatkozóan!"
   ]
  },
  {
   "cell_type": "code",
   "execution_count": 17,
   "metadata": {},
   "outputs": [
    {
     "data": {
      "image/png": "[encoded data removed]",
      "text/plain": [
       "<IPython.core.display.Image object>"
      ]
     },
     "metadata": {},
     "output_type": "display_data"
    }
   ],
   "source": [
    "% ered=zeros(2,1);\n",
    "% ered(1)=y(2);\n",
    "% ered(2)=-0.3*y(2)-sin(y(1));\n",
    "[h,t,y]=AB3sys(0,15,[pi/2; 0],1000);\n",
    "plot(t,y(1,:),t,y(2,:),'r-')\n",
    "legend('elso komponens','masodik')"
   ]
  },
  {
   "cell_type": "code",
   "execution_count": 14,
   "metadata": {},
   "outputs": [
    {
     "name": "stdout",
     "output_type": "stream",
     "text": [
      "ans =\n",
      "\n",
      "       2   65537\n",
      "\n",
      "ratekomp1 =\n",
      "\n",
      "   3.0100   3.0156   3.0098\n",
      "\n",
      "ratekomp2 =\n",
      "\n",
      "   3.0083   3.0141   3.0089\n",
      "\n",
      "ans =  3.0083\n"
     ]
    }
   ],
   "source": [
    "%% Rendszer esetre AB3 kettes normaban\n",
    "\n",
    "[h,t,y]=AB3sys(0,15,[pi/2; 0],2^16);\n",
    "finommo=y;\n",
    "size(finommo)\n",
    "\n",
    "N=2^6;\n",
    "for i=1:3\n",
    "    [h,t,y]=AB3sys(0,15,[pi/2; 0],N*2^(i-1));\n",
    "    exact1=finommo(1,1:2^(11-i):2^16+1);\n",
    "    exact2=finommo(2,1:2^(11-i):2^16+1);\n",
    "    lepeskoz(i)=h;\n",
    "    normakomp1(i)=(lepeskoz(i)*sum((abs(exact1-y(1,:))).^2))^(1/2);\n",
    "    normakomp2(i)=(lepeskoz(i)*sum((abs(exact2-y(2,:))).^2))^(1/2);\n",
    "end\n",
    "\n",
    "for i=1:length(normakomp2)-1\n",
    "    ratekomp1(i)=log2(normakomp1(i)/normakomp1(i+1));\n",
    "    ratekomp2(i)=log2(normakomp2(i)/normakomp2(i+1));\n",
    "\n",
    "end\n",
    "ratekomp1\n",
    "ratekomp2\n",
    "min(min(ratekomp1, ratekomp2))\n",
    "a=[ratekomp1(end) ratekomp2(end)]\n",
    "min(a)\n"
   ]
  },
  {
   "cell_type": "markdown",
   "metadata": {},
   "source": [
    "<b>3.feladat.</b> [Házi feladat] Oldjuk meg a 2.feladatot AB4 módszerrel és RK2, RK3, RK4 módszerrel indítva. Mérjük meg rendszerre vonatkozóan a konvergencia rendjét finom rács technikával egyes normára vonatkozóan! Az eredményeinkről készítsünk informatív táblázatot is!\n",
    "<br>"
   ]
  },
  {
   "cell_type": "code",
   "execution_count": null,
   "metadata": {},
   "outputs": [],
   "source": []
  },
  {
   "cell_type": "markdown",
   "metadata": {},
   "source": [
    "<br>\n",
    "<br>\n",
    "\n",
    "### Adams-Moulton (AM) és Prediktor-Korrektor módszerek\n",
    "\n",
    "$$y_{i+1}=y_i+h\\sum_{j=0}^kb_j\\ f_{i-j+1}$$\n",
    "Jelölések:\n",
    "+ $k$ lépések száma\n",
    "+ $p=k+1$ módszer rendje\n",
    "+ lokális csonkolási hiba $C_{p+1}h^{p+1}f^{(p)}(\\xi)$\n",
    "\n",
    "\n",
    "<table style=\"text-align: center\" cellpadding=\"3px\" cellspacing=\"0px\">\n",
    "<tr>\n",
    "<td style=\"border-bottom:1px solid; border-top: 1px solid;\">$p_{}$</td>\n",
    "<td style=\"border-bottom:1px solid; border-top: 1px solid;\">$k_{}$</td>\n",
    "<td style=\"border-bottom:1px solid; border-top: 1px solid;\">$b_0$</td>\n",
    "<td style=\"border-bottom:1px solid; border-top: 1px solid;\">$b_1$</td>\n",
    "<td style=\"border-bottom:1px solid; border-top: 1px solid;\">$b_2$</td>\n",
    "<td style=\"border-bottom:1px solid; border-top: 1px solid;\">$b_3$</td>\n",
    "<td style=\"border-bottom:1px solid; border-top: 1px solid;\">$b_4$</td>\n",
    "<td style=\"border-bottom:1px solid; border-top: 1px solid;\">$b_5$</td>\n",
    "<td style=\"border-bottom:1px solid; border-top: 1px solid;\">$C_{p+1}$</td>\n",
    "</tr>\n",
    "<tr>\n",
    "<td>$$2$$</td>\n",
    "<td>$$1$$</td>\n",
    "<td>$$\\frac{1}{2}$$</td>\n",
    "<td>$$\\frac{1}{2}$$</td>\n",
    "<td></td>\n",
    "<td></td>\n",
    "<td></td>\n",
    "<td></td>\n",
    "<td>$$-\\frac{1}{12}$$</td>\n",
    "</tr>\n",
    "<tr>\n",
    "<td>$$3$$</td>\n",
    "<td>$$2$$</td>\n",
    "<td>$$\\frac{5}{12}$$</td>\n",
    "<td>$$\\frac{8}{12}$$</td>\n",
    "<td>$$-\\frac{1}{12}$$</td>\n",
    "<td></td>\n",
    "<td></td>\n",
    "<td></td>\n",
    "<td>$$-\\frac{1}{24}$$</td>\n",
    "</tr>\n",
    "<tr>\n",
    "<td>$$4$$</td>\n",
    "<td>$$3$$</td>\n",
    "<td>$$\\frac{9}{24}$$</td>\n",
    "<td>$$\\frac{19}{24}$$</td>\n",
    "<td>$$-\\frac{5}{24}$$</td>\n",
    "<td>$$\\frac{1}{24}$$</td>\n",
    "<td></td>\n",
    "<td></td>\n",
    "<td>$$-\\frac{19}{720}$$</td>\n",
    "</tr>\n",
    "<tr>\n",
    "<td>$$5$$</td>\n",
    "<td>$$4$$</td>\n",
    "<td>$$\\frac{251}{720}$$</td>\n",
    "<td>$$\\frac{646}{720}$$</td>\n",
    "<td>$$-\\frac{264}{720}$$</td>\n",
    "<td>$$\\frac{106}{720}$$</td>\n",
    "<td>$$-\\frac{19}{720}$$</td>\n",
    "<td></td>\n",
    "<td>$$-\\frac{3}{160}$$</td>\n",
    "</tr>\n",
    "<tr>\n",
    "<td style=\"border-bottom:1px solid;\">$$6$$</td>\n",
    "<td style=\"border-bottom:1px solid;\">$$5$$</td>\n",
    "<td style=\"border-bottom:1px solid;\">$$\\frac{475}{1440}$$</td>\n",
    "<td style=\"border-bottom:1px solid;\">$$\\frac{1427}{1440}$$</td>\n",
    "<td style=\"border-bottom:1px solid;\">$$-\\frac{798}{1440}$$</td>\n",
    "<td style=\"border-bottom:1px solid;\">$$\\frac{482}{1440}$$</td>\n",
    "<td style=\"border-bottom:1px solid;\">$$-\\frac{173}{1440}$$</td>\n",
    "<td style=\"border-bottom:1px solid;\">$$\\frac{27}{1440}$$</td>\n",
    "<td style=\"border-bottom:1px solid;\">$$-\\frac{863}{60480}$$</td>\n",
    "</tr>\n",
    "</table>\n",
    "<br>\n",
    "<br>\n"
   ]
  },
  {
   "cell_type": "markdown",
   "metadata": {},
   "source": [
    "<br>\n",
    "<b>4.feladat.</b> Tekintsük az 1.feladatban szereplő kezdeti érték feladatot. Számoljuk ki a feladat közelítő megoldását AM3 prediktor-korrektor módszer segítségével, ha ehhez RK3 és AB3 módszereket használunk.<br>\n",
    "\n",
    "A pontos és a numerikus eredményről készítsünk ábrát! Mit tapasztalunk az egyes esetekben konvergencia rendet illetően, ha maximum normában mérünk és \n",
    "<br>\n",
    "+ a pontos megoldásból számolunk,\n",
    "+ finom rács technikával számolunk?"
   ]
  },
  {
   "cell_type": "code",
   "execution_count": 5,
   "metadata": {},
   "outputs": [
    {
     "name": "stdout",
     "output_type": "stream",
     "text": [
      "ans =    3.113447499814015e-07\r\n"
     ]
    }
   ],
   "source": [
    "format long\n",
    "[h,t,y]=AM3(0,1,2,100);\n",
    "%plot(t,y,'*'); \n",
    "%hold on\n",
    "exact=3*exp(t)-t-1;\n",
    "%plot(t,exact);\n",
    "%hold off\n",
    "norm(y-exact,'inf')"
   ]
  },
  {
   "cell_type": "code",
   "execution_count": 6,
   "metadata": {},
   "outputs": [
    {
     "name": "stdout",
     "output_type": "stream",
     "text": [
      "rate =\r\n",
      "\r\n",
      " Columns 1 through 4:\r\n",
      "\r\n",
      "   1.285455068540164   2.493321507870607   2.782777587493904   2.898122365526921\r\n",
      "\r\n",
      " Columns 5 and 6:\r\n",
      "\r\n",
      "   2.950542503329654   2.975621439796173\r\n",
      "\r\n"
     ]
    }
   ],
   "source": [
    "%% Maxmimum norma pontos megoldasbol\n",
    "clear all\n",
    "N=8;\n",
    "for i=1:7\n",
    "    [h,t,y]=AM3(0,1,2,N*2^(i-1));\n",
    "    exact=3*exp(t)-t-1;\n",
    "    norma(i)=norm(exact-y,'inf');\n",
    "end\n",
    "%norma\n",
    "for i=1:length(norma)-1\n",
    "    rate(i)=log2(norma(i)/norma(i+1));\n",
    "end\n",
    "rate"
   ]
  },
  {
   "cell_type": "code",
   "execution_count": 37,
   "metadata": {},
   "outputs": [
    {
     "name": "stdout",
     "output_type": "stream",
     "text": [
      "rate =\n",
      "\n",
      "   2.9748   2.9876\n",
      "\n"
     ]
    }
   ],
   "source": [
    "%% Max norma EE\n",
    "clear all\n",
    "[h,t,y]=AM3(0,1,2,2^14);\n",
    "finommo=y;\n",
    "N=2^7;\n",
    "for i=1:3\n",
    "    [h,t,y]=AM3(0,1,2,N*2^(i-1));\n",
    "    exact=finommo(1:2^(8-i):2^14+1);\n",
    "    norma2(i)=norm(y-exact,'inf');\n",
    "end\n",
    "for i=1:length(norma2)-1\n",
    "    rate(i)=log2(norma2(i)/norma2(i+1));\n",
    "end\n",
    "rate"
   ]
  },
  {
   "cell_type": "markdown",
   "metadata": {},
   "source": [
    "<b>5.feladat.</b> Tekintsük az 2.feladatban szereplő kezdeti érték feladatot. Számoljuk ki a feladat közelítő megoldását AM3 prediktor-korrektor módszer segítségével, ha ehhez RK3 és AB3 módszereket használunk. Mérjük meg rendszerre vonatkozóan a konvergencia rendjét finom rács technikával kettes normára vonatkozóan!"
   ]
  },
  {
   "cell_type": "code",
   "execution_count": null,
   "metadata": {},
   "outputs": [],
   "source": []
  },
  {
   "cell_type": "code",
   "execution_count": null,
   "metadata": {},
   "outputs": [],
   "source": []
  },
  {
   "cell_type": "markdown",
   "metadata": {},
   "source": [
    "### Milne-Simpson prediktor-korrektor módszer\n",
    "\n",
    "\n",
    "<b>6.feladat.</b> [Two-Mass and Spring system] Egy kéttömegű lengőendszer vertikális kitérését <a href=\"https://hu.wikipedia.org/wiki/Hooke-t%C3%B6rv%C3%A9ny\" target=\"blank\">Hooke törvénye</a> alapján egy másodrendű közönséges differenciálegyenlet rendszerrel írhatunk le. Ennek alakja\n",
    "\n",
    "\\begin{align}\n",
    "m_1x_1^{\"}&=-s_1x_1+s_2(x_2-x_1)\\\\\n",
    "m_2x_2^{\"}&=-s_2(x_2-x_1)\n",
    "\\end{align}\n",
    "\n",
    "Az elsőrendű rendszer alakja ekkor\n",
    "\\begin{align}\n",
    "u_1^{'}&=u_2\\\\\n",
    "u_2^{'}&=-\\frac{s_1}{m_1}u_1+\\frac{s_2}{m_1}(u_3-u_1)\\\\\n",
    "u_3^{'}&=u_4\\\\\n",
    "u_4^{'}&=-\\frac{s_2}{m_2}(u_3-u_1)\n",
    "\\end{align}\n",
    "ahol $m_1$ és $m_2$ adott tömegek, $s_1$ és $s_2$ adott rugóhoz tartozó állandók. A feladathoz tartozó kezdeti érték vektora\n",
    "$$u_1(0)=\\alpha_1,\\quad u_2(0)=\\alpha_2,\\quad u_3(0)=\\alpha_3,\\quad u_4(0)=\\alpha_4$$\n",
    "\n",
    "Az egyszerűség kedvéért $m_1=10$kg, $m_2=2$kg, $s_1=100$, $s_2=120$, $\\alpha_1=0.5$, $\\alpha_2=0$, $\\alpha_3=0.25$, $\\alpha_4=0$. A kitérést a tömeg egyensúlyi helyzetétől mérve pozitív irányítással lefelé értjük. A kilengést és a hosszt magában foglaló ábárzoláshoz szükséges paraméterek értékei $r_1=10$ és $r_2=15$.\n",
    "\n",
    "A feladat megoldására a Milne-Simpson prediktor-korrektor módszert alkalmazzuk.\n",
    "\\begin{align}\n",
    "yP_{i+1}&=y_{i-3}+\\frac{4}{3}h(2f_i-f_{i-1}+2f_{i-2})\\\\\n",
    "yC_{i+1}&=y_{i-1}+\\frac{1}{3}h(f_{i+1}+4f_{i}+f_{i-1})\n",
    "\\end{align}\n",
    "\n",
    "Vizsgáljuk meg, hogy mekkora a kitérés mértéke az egyes tömegekre nézve az első 5 másodpercben. Ábrázoljuk ezt! Finomrács technika segítségével mérjük meg a módszer becsült rendjét kettes normában! \n"
   ]
  },
  {
   "cell_type": "code",
   "execution_count": 14,
   "metadata": {},
   "outputs": [
    {
     "name": "stdout",
     "output_type": "stream",
     "text": [
      "nn =  4\n",
      "mm =  101\n",
      "ans =\n",
      "\n",
      "     1   101\n",
      "\n"
     ]
    },
    {
     "data": {
      "image/png": "[encoded data removed]",
      "text/plain": [
       "<IPython.core.display.Image object>"
      ]
     },
     "metadata": {},
     "output_type": "display_data"
    }
   ],
   "source": []
  },
  {
   "cell_type": "code",
   "execution_count": null,
   "metadata": {},
   "outputs": [],
   "source": []
  }
 ],
 "metadata": {
  "kernelspec": {
   "display_name": "Octave",
   "language": "octave",
   "name": "octave"
  },
  "language_info": {
   "file_extension": ".m",
   "help_links": [
    {
     "text": "GNU Octave",
     "url": "https://www.gnu.org/software/octave/support.html"
    },
    {
     "text": "Octave Kernel",
     "url": "https://github.com/Calysto/octave_kernel"
    },
    {
     "text": "MetaKernel Magics",
     "url": "https://metakernel.readthedocs.io/en/latest/source/README.html"
    }
   ],
   "mimetype": "text/x-octave",
   "name": "octave",
   "version": "5.1.0"
  }
 },
 "nbformat": 4,
 "nbformat_minor": 1
}
